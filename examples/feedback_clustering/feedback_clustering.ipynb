{
 "cells": [
  {
   "cell_type": "markdown",
   "id": "9588aaec",
   "metadata": {},
   "source": [
    "To run this notebook just press _\"Run All\"_ <span style=\"opacity:.8;\">(in Google Colab: <b>Runtime ▸ Run all</b>)</span>\n",
    "\n",
    "<p align=\"center\">\n",
    "  <a href=\"https://docs.fenic.ai\">Read the Docs</a> •\n",
    "  <a href=\"https://discord.com/invite/GdqF3J7huR\">Join Discord</a> •\n",
    "  <a href=\"https://github.com/typedef-ai/fenic\">⭐️ Star fenic</a>\n",
    "</p>\n",
    "\n",
    "To install fenic locally, just follow the instructions on the [Github Repo](https://github.com/typedef-ai/fenic)\n",
    "\n",
    "**What you'll learn:**\n",
    "- How to configure fenic with language and embedding models for semantic analysis.\n",
    "- How to load and structure customer feedback data.\n",
    "- How to generate semantic embeddings for feedback text.\n",
    "- How to cluster feedback into thematic groups using semantic similarity.\n",
    "- How to summarize each cluster to extract actionable insights.\n",
    "\n",
    "By the end of this example, you'll see how fenic can help you quickly identify common issues, feature requests, and areas of praise from customer feedback—enabling data-driven decision making and faster response to user needs.\n",
    "\n",
    "If this notebook helps, please give <a href=\"https://github.com/typedef-ai/fenic\" target=\"_blank\" rel=\"noopener noreferrer\">fenic</a> a ⭐️ — it really helps!"
   ]
  },
  {
   "cell_type": "markdown",
   "id": "fe0478ab",
   "metadata": {},
   "source": [
    "## Installation"
   ]
  },
  {
   "cell_type": "code",
   "execution_count": null,
   "id": "67b413e1",
   "metadata": {},
   "outputs": [],
   "source": [
    "!pip uninstall -y sklearn-compat ibis-framework imbalanced-learn\n",
    "!pip install fenic matplotlib seaborn polars==1.30.0"
   ]
  },
  {
   "cell_type": "code",
   "execution_count": null,
   "id": "1bcdb861",
   "metadata": {},
   "outputs": [],
   "source": [
    "import os\n",
    "import getpass\n",
    "os.environ[\"OPENAI_API_KEY\"] = getpass.getpass(\"OpenAI API Key:\")"
   ]
  },
  {
   "cell_type": "code",
   "execution_count": 16,
   "id": "55186764",
   "metadata": {},
   "outputs": [],
   "source": [
    "import fenic as fc"
   ]
  },
  {
   "cell_type": "markdown",
   "id": "4f51ccad",
   "metadata": {},
   "source": [
    "In this step, we configure a fenic session with both language and embedding models. \n",
    "\n",
    "This setup specifies which models to use for semantic analysis and embeddings, as well as their rate limits. \n",
    "\n",
    "Initializing the session with these settings enables all subsequent semantic operations in the notebook."
   ]
  },
  {
   "cell_type": "code",
   "execution_count": null,
   "id": "1c958bd7",
   "metadata": {},
   "outputs": [],
   "source": [
    "# Configure session with both language models and embedding models\n",
    "config = fc.SessionConfig(\n",
    "    app_name=\"feedback_clustering\",\n",
    "    semantic=fc.SemanticConfig(\n",
    "        language_models={\n",
    "            \"mini\": fc.OpenAILanguageModel(\n",
    "                model_name=\"gpt-4o-mini\",\n",
    "                rpm=500,\n",
    "                tpm=200_000,\n",
    "            )\n",
    "        },\n",
    "        embedding_models={\n",
    "            \"small\": fc.OpenAIEmbeddingModel(\n",
    "                model_name=\"text-embedding-3-small\",\n",
    "                rpm=3000,\n",
    "                tpm=1_000_000\n",
    "            )\n",
    "        }\n",
    "    ),\n",
    ")\n",
    "\n",
    "# Create session\n",
    "session = fc.Session.get_or_create(config)"
   ]
  },
  {
   "cell_type": "markdown",
   "id": "86c45311",
   "metadata": {},
   "source": [
    "### Sample Customer Feedback Data\n",
    "\n",
    "This section defines a sample dataset of customer feedback entries, each containing details such as customer name, feedback text, rating, and timestamp. \n",
    "\n",
    "The data is then loaded into a fenic DataFrame, which will be used for semantic analysis and clustering in the following steps."
   ]
  },
  {
   "cell_type": "code",
   "execution_count": null,
   "id": "0bd806db",
   "metadata": {},
   "outputs": [],
   "source": [
    "# Sample customer feedback data with various themes\n",
    "feedback_data = [\n",
    "    {\n",
    "        \"feedback_id\": \"fb_001\",\n",
    "        \"customer_name\": \"Alice Johnson\",\n",
    "        \"feedback\": \"The mobile app crashes every time I try to upload a photo. Very frustrating experience!\",\n",
    "        \"rating\": 1,\n",
    "        \"timestamp\": \"2024-01-15\"\n",
    "    },\n",
    "    {\n",
    "        \"feedback_id\": \"fb_002\",\n",
    "        \"customer_name\": \"Bob Smith\",\n",
    "        \"feedback\": \"Love the new dark mode feature! Much easier on the eyes during night time use.\",\n",
    "        \"rating\": 5,\n",
    "        \"timestamp\": \"2024-01-16\"\n",
    "    },\n",
    "    {\n",
    "        \"feedback_id\": \"fb_003\",\n",
    "        \"customer_name\": \"Carol Davis\",\n",
    "        \"feedback\": \"The app is way too slow when loading my dashboard. Takes over 30 seconds every time.\",\n",
    "        \"rating\": 2,\n",
    "        \"timestamp\": \"2024-01-17\"\n",
    "    },\n",
    "    {\n",
    "        \"feedback_id\": \"fb_004\",\n",
    "        \"customer_name\": \"David Wilson\",\n",
    "        \"feedback\": \"Please add a feature to export data to Excel. Really need this for my monthly reports.\",\n",
    "        \"rating\": 3,\n",
    "        \"timestamp\": \"2024-01-18\"\n",
    "    },\n",
    "    {\n",
    "        \"feedback_id\": \"fb_005\",\n",
    "        \"customer_name\": \"Emma Brown\",\n",
    "        \"feedback\": \"The checkout process is so confusing. Too many steps to complete a simple purchase.\",\n",
    "        \"rating\": 2,\n",
    "        \"timestamp\": \"2024-01-19\"\n",
    "    },\n",
    "    {\n",
    "        \"feedback_id\": \"fb_006\",\n",
    "        \"customer_name\": \"Frank Miller\",\n",
    "        \"feedback\": \"Amazing customer support team! They solved my billing issue in just minutes.\",\n",
    "        \"rating\": 5,\n",
    "        \"timestamp\": \"2024-01-20\"\n",
    "    },\n",
    "    {\n",
    "        \"feedback_id\": \"fb_007\",\n",
    "        \"customer_name\": \"Grace Lee\",\n",
    "        \"feedback\": \"Button layouts are inconsistent across different screens. Looks unprofessional.\",\n",
    "        \"rating\": 2,\n",
    "        \"timestamp\": \"2024-01-21\"\n",
    "    },\n",
    "    {\n",
    "        \"feedback_id\": \"fb_008\",\n",
    "        \"customer_name\": \"Henry Clark\",\n",
    "        \"feedback\": \"Would love to see integration with Google Calendar for appointment scheduling.\",\n",
    "        \"rating\": 4,\n",
    "        \"timestamp\": \"2024-01-22\"\n",
    "    },\n",
    "    {\n",
    "        \"feedback_id\": \"fb_009\",\n",
    "        \"customer_name\": \"Ivy Martinez\",\n",
    "        \"feedback\": \"App constantly freezes when I try to edit my profile information. Please fix!\",\n",
    "        \"rating\": 1,\n",
    "        \"timestamp\": \"2024-01-23\"\n",
    "    },\n",
    "    {\n",
    "        \"feedback_id\": \"fb_010\",\n",
    "        \"customer_name\": \"Jack Taylor\",\n",
    "        \"feedback\": \"The search functionality is excellent! Found exactly what I needed quickly.\",\n",
    "        \"rating\": 5,\n",
    "        \"timestamp\": \"2024-01-24\"\n",
    "    },\n",
    "    {\n",
    "        \"feedback_id\": \"fb_011\",\n",
    "        \"customer_name\": \"Karen White\",\n",
    "        \"feedback\": \"Loading times are terrible. Sometimes the app doesn't respond for minutes.\",\n",
    "        \"rating\": 1,\n",
    "        \"timestamp\": \"2024-01-25\"\n",
    "    },\n",
    "    {\n",
    "        \"feedback_id\": \"fb_012\",\n",
    "        \"customer_name\": \"Leo Garcia\",\n",
    "        \"feedback\": \"Add offline mode please! Need to access my data when traveling without internet.\",\n",
    "        \"rating\": 3,\n",
    "        \"timestamp\": \"2024-01-26\"\n",
    "    }\n",
    "]\n",
    "\n",
    "# Create DataFrame\n",
    "feedback_df = session.create_dataframe(feedback_data)\n",
    "print(f\"Loaded {feedback_df.count()} customer feedback entries:\")\n",
    "feedback_df.select(\"customer_name\", \"feedback\", \"rating\").show()"
   ]
  },
  {
   "cell_type": "markdown",
   "id": "c07b7efa",
   "metadata": {},
   "source": [
    "### Generating Semantic Embeddings\n",
    "\n",
    "In this step, we generate semantic embeddings for each feedback entry using the configured embedding model. \n",
    "\n",
    "These embeddings capture the meaning of the feedback text in a numerical form, enabling semantic comparison and clustering in later steps. \n",
    "\n",
    "The resulting embeddings are added as a new column to the DataFrame."
   ]
  },
  {
   "cell_type": "code",
   "execution_count": null,
   "id": "ded73750",
   "metadata": {},
   "outputs": [],
   "source": [
    "# Step 1: Create embeddings for feedback text\n",
    "\n",
    "# Generate embeddings from the feedback text\n",
    "feedback_with_embeddings = feedback_df.select(\n",
    "    \"*\",\n",
    "    fc.semantic.embed(fc.col(\"feedback\")).alias(\"feedback_embeddings\")\n",
    ")"
   ]
  },
  {
   "cell_type": "markdown",
   "id": "7e8a32ef",
   "metadata": {},
   "source": [
    "### Clustering Feedback into Semantic Themes\n",
    "\n",
    "This step clusters the feedback entries into thematic groups based on the semantic similarity of their embeddings. \n",
    "\n",
    "We specify the number of clusters (e.g., bugs, performance, features, praise) and aggregate each group to compute statistics such as feedback count, average rating, and customer names. \n",
    "\n",
    "Additionally, we use a semantic reduction to generate a concise summary describing the main theme, common issues, and overall sentiment for each cluster."
   ]
  },
  {
   "cell_type": "code",
   "execution_count": null,
   "id": "1a8d063f",
   "metadata": {},
   "outputs": [],
   "source": [
    "# Step 2: Cluster feedback into semantic themes\n",
    "# Use semantic group_by to cluster feedback into 4 thematic groups\n",
    "# and apply semantic.reduce directly in the aggregation\n",
    "feedback_clusters = feedback_with_embeddings.semantic.with_cluster_labels(\n",
    "    fc.col(\"feedback_embeddings\"),\n",
    "    4  # Number of clusters - expecting themes like bugs, performance, features, praise\n",
    ").group_by(\n",
    "    \"cluster_label\"\n",
    ").agg(\n",
    "    fc.count(\"*\").alias(\"feedback_count\"),\n",
    "    fc.avg(\"rating\").alias(\"avg_rating\"),\n",
    "    fc.collect_list(\"customer_name\").alias(\"customer_names\"),\n",
    "    fc.semantic.reduce(\n",
    "        (\n",
    "            \"Analyze this cluster of customer feedback and provide a concise summary of the main theme, \"\n",
    "            \"common issues, and sentiment.\"\n",
    "        ),\n",
    "        column=fc.col(\"feedback\")\n",
    "    ).alias(\"theme_summary\")\n",
    ")"
   ]
  },
  {
   "cell_type": "markdown",
   "id": "f7ff37b9",
   "metadata": {},
   "source": [
    "### Displaying and Cleaning Up\n",
    "\n",
    "In this final step, we display the results of the clustering analysis, showing each cluster’s label, the number of feedback entries, average rating, and a summary of the main theme. \n",
    "\n",
    "After presenting the results, we clean up by stopping the Fenic session."
   ]
  },
  {
   "cell_type": "code",
   "execution_count": null,
   "id": "ad6cef13",
   "metadata": {},
   "outputs": [],
   "source": [
    "# Display detailed analysis for each cluster\n",
    "feedback_clusters.select(\n",
    "    \"cluster_label\",\n",
    "    \"feedback_count\",\n",
    "    \"avg_rating\",\n",
    "    \"theme_summary\"\n",
    ").sort(\"cluster_label\").show()\n",
    "print()\n",
    "\n",
    "# Clean up\n",
    "session.stop()\n",
    "print(\"Analysis complete!\")"
   ]
  },
  {
   "cell_type": "markdown",
   "id": "58785b87",
   "metadata": {},
   "source": [
    "## Next Steps\n",
    "\n",
    "A few other examples to explore:\n",
    "\n",
    "- Extract structured metadata from unstructured text [notebook](https://colab.research.google.com/github/typedef-ai/fenic/blob/main/examples/document_extraction/document_extraction.ipynb)\n",
    "- Named Entity Recognition [notebook](https://colab.research.google.com/github/typedef-ai/fenic/blob/main/examples/named_entity_recognition/ner.ipynb)\n",
    "- Classification of new articles for article bias detection [notebook](https://colab.research.google.com/github/typedef-ai/fenic/blob/main/examples/news_analysis/news_analysis.ipynb)\n",
    "\n",
    "---\n",
    "\n",
    "<p align=\"center\" style=\"margin:18px 0 6px; font-size:1.05em;\">\n",
    "  Enjoyed this? Help others find it.\n",
    "</p>\n",
    "\n",
    "<p align=\"center\" style=\"margin:0 0 12px;\">\n",
    "<a href=\"https://github.com/typedef-ai/fenic\">⭐️ Give fenic a Star ⭐️</a>\n",
    "</p>\n",
    "\n",
    "\n",
    "\n"
   ]
  }
 ],
 "metadata": {
  "kernelspec": {
   "display_name": ".venv",
   "language": "python",
   "name": "python3"
  },
  "language_info": {
   "codemirror_mode": {
    "name": "ipython",
    "version": 3
   },
   "file_extension": ".py",
   "mimetype": "text/x-python",
   "name": "python",
   "nbconvert_exporter": "python",
   "pygments_lexer": "ipython3",
   "version": "3.11.11"
  }
 },
 "nbformat": 4,
 "nbformat_minor": 5
}
