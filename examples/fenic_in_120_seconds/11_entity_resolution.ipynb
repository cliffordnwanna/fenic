{
 "cells": [
  {
   "cell_type": "markdown",
   "metadata": {},
   "source": "To run this Fenic demo, click **Runtime** > **Run all**.\n\n<div class=\"align-center\">\n<a href=\"https://github.com/typedef-ai/fenic\"><img src=\"https://github.com/typedef-ai/fenic/blob/main/docs/images/typedef-fenic-logo-github-yellow.png\" height=\"50\"></a>\n<a href=\"https://discord.gg/GdqF3J7huR\"><img src=\"https://github.com/typedef-ai/fenic/blob/main/docs/images/join-the-discord.png\" height=\"50\"></a>\n<a href=\"https://docs.fenic.ai/latest/\"><img src=\"https://github.com/typedef-ai/fenic/blob/main/docs/images/documentation.png\" height=\"50\"></a>\n\nQuestions? Join the Discord and ask away! For feature requests or to leave a star, visit our [GitHub](https://github.com/typedef-ai/fenic).\n\n</div>"
  },
  {
   "cell_type": "code",
   "execution_count": null,
   "metadata": {},
   "outputs": [],
   "source": [
    "!pip uninstall -y sklearn-compat ibis-framework imbalanced-learn google-genai\n",
    "!pip install polars==1.30.0\n",
    "# === GOOGLE GEMINI ===\n",
    "#!pip install fenic[google]\n",
    "# === ANTHROPIC CLAUDE ===\n",
    "#!pip install fenic[anthropic]\n",
    "# === OPENAI (Default) ===\n",
    "!pip install fenic"
   ]
  },
  {
   "cell_type": "code",
   "execution_count": null,
   "metadata": {},
   "outputs": [],
   "source": [
    "import os \n",
    "import getpass\n",
    "\n",
    "# 🔌 MULTI-PROVIDER SETUP - Choose your preferred LLM provider\n",
    "# Uncomment ONE of the provider sections below:\n",
    "\n",
    "# === OPENAI (Default) ===\n",
    "os.environ[\"OPENAI_API_KEY\"] = getpass.getpass(\"OpenAI API Key:\")\n",
    "\n",
    "# === GOOGLE GEMINI ===\n",
    "# os.environ[\"GOOGLE_API_KEY\"] = getpass.getpass(\"Google API Key:\")\n",
    "\n",
    "# === ANTHROPIC CLAUDE ===\n",
    "# os.environ[\"ANTHROPIC_API_KEY\"] = getpass.getpass(\"Anthropic API Key:\")"
   ]
  },
  {
   "cell_type": "markdown",
   "metadata": {},
   "source": [
    "# 🔗 Entity Resolution\n",
    "\n",
    "**Hook:** *\"Find the same company across different data sources, despite variations\"*\n",
    "\n",
    "\"Apple Inc.\", \"Apple Computer\", and \"AAPL\" all refer to the same company, but traditional matching fails. Entity resolution uses AI to understand that different representations refer to the same real-world entity, enabling data consolidation and deduplication at scale.\n",
    "\n",
    "**What you'll see in this 2-minute demo:**\n",
    "- 🏢 **Multi-source data** - Company names from different databases\n",
    "- 🔍 **Identity matching** - AI recognizes same entities despite variations\n",
    "- 📊 **Confidence scoring** - Quantified match certainty\n",
    "- 🎯 **Data consolidation** - Unified entity profiles\n",
    "\n",
    "Perfect for data integration, customer 360, and master data management."
   ]
  },
  {
   "cell_type": "code",
   "execution_count": null,
   "metadata": {},
   "outputs": [],
   "source": [
    "import fenic as fc\n",
    "\n",
    "# ⚡ Configure for entity resolution\n",
    "session = fc.Session.get_or_create(fc.SessionConfig(\n",
    "    app_name=\"entity_resolution_demo\",\n",
    "    semantic=fc.SemanticConfig(\n",
    "        language_models={\n",
    "            \"resolver\": fc.OpenAILanguageModel(model_name=\"gpt-4o-mini\", rpm=500, tpm=200_000),\n",
    "            # \"resolver\": fc.GoogleDeveloperLanguageModel(model_name=\"gemini-2.5-flash-lite\", rpm=1000, tpm=1_000_000),\n",
    "            # \"resolver\": fc.AnthropicLanguageModel(model_name=\"claude-3-5-sonnet-20241022\", rpm=500, tpm=200_000)\n",
    "        }\n",
    "    )\n",
    "))\n",
    "\n",
    "print(\"✅ Entity resolution session configured\")"
   ]
  },
  {
   "cell_type": "markdown",
   "metadata": {},
   "source": [
    "## 🏢 Step 1: Multi-Source Company Data\n",
    "\n",
    "Company records from different systems with various naming conventions:"
   ]
  },
  {
   "cell_type": "code",
   "execution_count": null,
   "metadata": {},
   "outputs": [],
   "source": [
    "# 🏢 Company data from different sources (CRM, financial, news, etc.)\n",
    "companies_source_a = session.create_dataframe([\n",
    "    {\"id\": \"A001\", \"source\": \"CRM\", \"company_name\": \"Apple Inc.\", \"revenue\": \"$394B\", \"industry\": \"Technology\"},\n",
    "    {\"id\": \"A002\", \"source\": \"CRM\", \"company_name\": \"Microsoft Corporation\", \"revenue\": \"$211B\", \"industry\": \"Software\"},\n",
    "    {\"id\": \"A003\", \"source\": \"CRM\", \"company_name\": \"Alphabet Inc.\", \"revenue\": \"$307B\", \"industry\": \"Internet\"},\n",
    "    {\"id\": \"A004\", \"source\": \"CRM\", \"company_name\": \"Meta Platforms Inc.\", \"revenue\": \"$134B\", \"industry\": \"Social Media\"}\n",
    "])\n",
    "\n",
    "companies_source_b = session.create_dataframe([\n",
    "    {\"id\": \"B101\", \"source\": \"Financial\", \"company_name\": \"AAPL\", \"stock_price\": \"$189.50\", \"market_cap\": \"$2.9T\"},\n",
    "    {\"id\": \"B102\", \"source\": \"Financial\", \"company_name\": \"MSFT\", \"stock_price\": \"$420.15\", \"market_cap\": \"$3.1T\"},\n",
    "    {\"id\": \"B103\", \"source\": \"Financial\", \"company_name\": \"GOOGL\", \"stock_price\": \"$175.25\", \"market_cap\": \"$2.1T\"},\n",
    "    {\"id\": \"B104\", \"source\": \"Financial\", \"company_name\": \"Apple Computer\", \"stock_price\": \"$189.50\", \"market_cap\": \"$2.9T\"}\n",
    "])\n",
    "\n",
    "print(\"🏢 SOURCE A (CRM System):\")\n",
    "companies_source_a.show()\n",
    "\n",
    "print(\"\\n📈 SOURCE B (Financial System):\")\n",
    "companies_source_b.show()"
   ]
  },
  {
   "cell_type": "markdown",
   "metadata": {},
   "source": [
    "## 🔍 Step 2: AI-Powered Entity Matching\n",
    "\n",
    "Use semantic join to match companies across sources despite naming differences:"
   ]
  },
  {
   "cell_type": "code",
   "execution_count": null,
   "metadata": {},
   "outputs": [],
   "source": [
    "# 🔍 Semantic join to resolve entity identities across sources\n",
    "# First, add aliases to avoid duplicate column names\n",
    "companies_a_aliased = companies_source_a.select(\n",
    "    fc.col(\"id\").alias(\"crm_id\"),\n",
    "    fc.col(\"source\").alias(\"crm_source\"), \n",
    "    fc.col(\"company_name\").alias(\"crm_name\"),\n",
    "    fc.col(\"revenue\"),\n",
    "    fc.col(\"industry\")\n",
    ")\n",
    "\n",
    "companies_b_aliased = companies_source_b.select(\n",
    "    fc.col(\"id\").alias(\"financial_id\"),\n",
    "    fc.col(\"source\").alias(\"financial_source\"),\n",
    "    fc.col(\"company_name\").alias(\"financial_name\"), \n",
    "    fc.col(\"stock_price\"),\n",
    "    fc.col(\"market_cap\")\n",
    ")\n",
    "\n",
    "entity_matches = companies_a_aliased.semantic.join(\n",
    "    companies_b_aliased,\n",
    "    predicate=\"\"\"Company A: {{ left_on }}\n",
    "Company B: {{ right_on }}\n",
    "\n",
    "These company names refer to the same business entity. Consider:\n",
    "- Full legal names vs common names (Apple Inc. = Apple Computer)\n",
    "- Stock ticker symbols (AAPL = Apple, MSFT = Microsoft, GOOGL = Google/Alphabet)\n",
    "- Historical names and rebranding\n",
    "- Corporate structure (Alphabet = Google parent company)\n",
    "\n",
    "Return true if these represent the same real-world company.\"\"\",\n",
    "    left_on=fc.col(\"crm_name\"),\n",
    "    right_on=fc.col(\"financial_name\"),\n",
    "    model_alias=\"resolver\"\n",
    ").cache()\n",
    "\n",
    "print(\"🔗 ENTITY RESOLUTION MATCHES:\")\n",
    "resolved_entities = entity_matches.select(\n",
    "    \"crm_name\",\n",
    "    \"financial_name\", \n",
    "    \"revenue\",\n",
    "    \"stock_price\"\n",
    ")\n",
    "resolved_entities.show()"
   ]
  },
  {
   "cell_type": "markdown",
   "metadata": {},
   "source": [
    "## 📊 Step 3: Unified Entity Profiles\n",
    "\n",
    "Create comprehensive profiles by merging data from matched entities:"
   ]
  },
  {
   "cell_type": "code",
   "execution_count": null,
   "metadata": {},
   "outputs": [],
   "source": [
    "# 📊 Create unified entity profiles with data from both sources\n",
    "unified_profiles = entity_matches.select(\n",
    "    \"crm_id\",\n",
    "    \"financial_id\",\n",
    "    fc.col(\"crm_name\").alias(\"canonical_name\"),\n",
    "    fc.col(\"financial_name\").alias(\"alt_name\"),\n",
    "    \"industry\",\n",
    "    \"revenue\",\n",
    "    \"stock_price\",\n",
    "    \"market_cap\"\n",
    ")\n",
    "\n",
    "print(\"📊 UNIFIED ENTITY PROFILES:\")\n",
    "unified_profiles.show()\n",
    "\n",
    "# Calculate resolution statistics\n",
    "total_source_a = companies_source_a.count()\n",
    "total_source_b = companies_source_b.count()\n",
    "matched_entities = entity_matches.count()\n",
    "\n",
    "print(\"\\n🎯 ENTITY RESOLUTION RESULTS:\")\n",
    "print(f\"   • Source A records: {total_source_a}\")\n",
    "print(f\"   • Source B records: {total_source_b}\")\n",
    "print(f\"   • Successfully matched entities: {matched_entities}\")\n",
    "print(f\"   • Match success rate: {(matched_entities/min(total_source_a, total_source_b)*100):.0f}%\")\n",
    "\n",
    "print(\"\\n💡 BUSINESS BENEFITS:\")\n",
    "print(\"   • Automatic entity deduplication across data sources\")\n",
    "print(\"   • 360-degree view of customers/companies\")\n",
    "print(\"   • Data quality improvement through consolidation\")\n",
    "print(\"   • Reduced manual data matching effort\")\n",
    "print(\"   • Master data management at scale\")"
   ]
  },
  {
   "cell_type": "code",
   "execution_count": null,
   "metadata": {},
   "outputs": [],
   "source": [
    "session.stop()"
   ]
  }
 ],
 "metadata": {
  "kernelspec": {
   "display_name": "Python 3",
   "language": "python",
   "name": "python3"
  },
  "language_info": {
   "codemirror_mode": {
    "name": "ipython",
    "version": 3
   },
   "file_extension": ".py",
   "mimetype": "text/x-python",
   "name": "python",
   "nbconvert_exporter": "python",
   "pygments_lexer": "ipython3",
   "version": "3.8.5"
  }
 },
 "nbformat": 4,
 "nbformat_minor": 4
}