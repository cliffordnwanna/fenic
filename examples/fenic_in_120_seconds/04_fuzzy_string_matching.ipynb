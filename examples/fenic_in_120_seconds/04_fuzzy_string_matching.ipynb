{
 "cells": [
  {
   "cell_type": "markdown",
   "id": "9m5g9r1vex",
   "metadata": {},
   "source": [
    "To run this Fenic demo, click **Runtime** > **Run all**.\n",
    "\n",
    "<div class=\"align-center\">\n",
    "<a href=\"https://github.com/typedef-ai/fenic\"><img src=\"https://github.com/typedef-ai/fenic/blob/main/docs/images/typedef-fenic-logo-github-yellow.png?raw=true\" height=\"50\"></a>\n",
    "<a href=\"https://discord.gg/GdqF3J7huR\"><img src=\"https://github.com/typedef-ai/fenic/blob/main/docs/images/join-the-discord.png?raw=true\" height=\"50\"></a>\n",
    "<a href=\"https://docs.fenic.ai/latest/\"><img src=\"https://github.com/typedef-ai/fenic/blob/main/docs/images/documentation.png?raw=true\" height=\"50\"></a>\n",
    "\n",
    "Questions? Join the Discord and ask away! For feature requests or to leave a star, visit our [GitHub](https://github.com/typedef-ai/fenic).\n",
    "\n",
    "</div>"
   ]
  },
  {
   "cell_type": "code",
   "execution_count": null,
   "id": "849cb89e",
   "metadata": {},
   "outputs": [],
   "source": [
    "!pip uninstall -y sklearn-compat ibis-framework imbalanced-learn google-genai\n",
    "!pip install polars==1.30.0\n",
    "# === GOOGLE GEMINI ===\n",
    "#!pip install fenic[google]\n",
    "# === ANTHROPIC CLAUDE ===\n",
    "#!pip install fenic[anthropic]\n",
    "# === OPENAI (Default) ===\n",
    "!pip install fenic"
   ]
  },
  {
   "cell_type": "code",
   "execution_count": null,
   "id": "0dr7qt06mucl",
   "metadata": {},
   "outputs": [],
   "source": [
    "import os \n",
    "import getpass\n",
    "\n",
    "# 🔌 MULTI-PROVIDER SETUP - Choose your preferred LLM provider\n",
    "# Uncomment ONE of the provider sections below:\n",
    "\n",
    "# === OPENAI (Default) ===\n",
    "os.environ[\"OPENAI_API_KEY\"] = getpass.getpass(\"OpenAI API Key:\")\n",
    "\n",
    "# === GOOGLE GEMINI ===\n",
    "# os.environ[\"GOOGLE_API_KEY\"] = getpass.getpass(\"Google API Key:\")\n",
    "\n",
    "# === ANTHROPIC CLAUDE ===\n",
    "# os.environ[\"ANTHROPIC_API_KEY\"] = getpass.getpass(\"Anthropic API Key:\")"
   ]
  },
  {
   "cell_type": "markdown",
   "id": "header",
   "metadata": {},
   "source": [
    "# 🔤 Fuzzy String Matching + AI Verification\n",
    "\n",
    "**Hook:** *\"Find duplicates despite typos, then verify uncertain matches with AI\"*\n",
    "\n",
    "Real-world data is messy - names have typos, nicknames, and variations. Fenic's built-in `fc.text` fuzzy matching functions detect potential duplicates, then AI verification ensures perfect accuracy. Watch algorithms + intelligence work together.\n",
    "\n",
    "**What you'll see in this 2-minute demo:**\n",
    "- 🔍 **Built-in fuzzy functions** - `fc.text.compute_fuzzy_ratio()` for similarity scoring\n",
    "- 📊 **Multiple algorithms** - Levenshtein, Jaro-Winkler, token-based matching\n",
    "- 🧠 **AI verification** - Use `semantic.map` to verify uncertain matches\n",
    "- ⚖️ **Hybrid precision** - Combine string algorithms + contextual AI reasoning\n",
    "\n",
    "This showcases Fenic's comprehensive text processing capabilities with AI enhancement."
   ]
  },
  {
   "cell_type": "markdown",
   "id": "3514728d",
   "metadata": {},
   "source": []
  },
  {
   "cell_type": "code",
   "execution_count": null,
   "id": "demo",
   "metadata": {},
   "outputs": [],
   "source": [
    "import fenic as fc\n",
    "\n",
    "# ⚡ Configure for fuzzy matching operations\n",
    "session = fc.Session.get_or_create(fc.SessionConfig(\n",
    "    app_name=\"fuzzy_matching_demo\",\n",
    "    semantic=fc.SemanticConfig(\n",
    "        language_models={\n",
    "            \"matcher\": fc.OpenAILanguageModel(model_name=\"gpt-4o-mini\", rpm=500, tpm=200_000),\n",
    "            # \"matcher\": fc.GoogleDeveloperLanguageModel(model_name=\"gemini-2.5-flash-lite\", rpm=1000, tpm=1_000_000),\n",
    "            # \"matcher\": fc.AnthropicLanguageModel(model_name=\"claude-3-5-sonnet-20241022\", rpm=500, tpm=200_000)\n",
    "        }\n",
    "    )\n",
    "))\n",
    "\n",
    "print(\"✅ Fuzzy string matching session configured\")"
   ]
  },
  {
   "cell_type": "markdown",
   "id": "mnp8kjw52xl",
   "metadata": {},
   "source": [
    "## 📊 Step 1: Messy Customer Data\n",
    "\n",
    "Real customer records with typos, nicknames, and variations that create duplicates:"
   ]
  },
  {
   "cell_type": "code",
   "execution_count": null,
   "id": "m0yc13mwvp",
   "metadata": {},
   "outputs": [],
   "source": [
    "# 📊 Customer records with name variations and duplicates\n",
    "customers = session.create_dataframe([\n",
    "    {\"id\": \"C001\", \"name\": \"Sarah Johnson\", \"email\": \"sarah.johnson@company.com\"},\n",
    "    {\"id\": \"C002\", \"name\": \"Sarah Jonson\", \"email\": \"s.johnson@company.com\"},     # Typo!\n",
    "    {\"id\": \"C003\", \"name\": \"Michael Rodriguez\", \"email\": \"mrodriguez@firm.co\"},\n",
    "    {\"id\": \"C004\", \"name\": \"Mike Rodriguez\", \"email\": \"m.rodriguez@firm.co\"},    # Nickname!\n",
    "    {\"id\": \"C005\", \"name\": \"David Smith\", \"email\": \"david@techcorp.com\"},\n",
    "    {\"id\": \"C006\", \"name\": \"Dave Smith\", \"email\": \"dave@othercorp.com\"}          # Different company!\n",
    "])\n",
    "\n",
    "print(\"📊 Customer Database - Notice the duplicates and variations:\")\n",
    "customers.show()"
   ]
  },
  {
   "cell_type": "markdown",
   "id": "h2kg7b8p7b",
   "metadata": {},
   "source": [
    "## 🔍 Step 2: Multiple Fuzzy Algorithms\n",
    "\n",
    "Apply Fenic's built-in fuzzy matching functions to find potential duplicates:"
   ]
  },
  {
   "cell_type": "code",
   "execution_count": null,
   "id": "d7jml24v4hh",
   "metadata": {},
   "outputs": [],
   "source": [
    "# 🔍 Create all name pairs for fuzzy comparison\n",
    "# Sarah Johnson vs Sarah Jonson (typo), Mike vs Michael Rodriguez (nickname)\n",
    "customer_pairs = session.create_dataframe([\n",
    "    {\"name_1\": \"Sarah Johnson\", \"name_2\": \"Sarah Jonson\", \"email_1\": \"sarah.johnson@company.com\", \"email_2\": \"s.johnson@company.com\"},\n",
    "    {\"name_1\": \"Michael Rodriguez\", \"name_2\": \"Mike Rodriguez\", \"email_1\": \"mrodriguez@firm.co\", \"email_2\": \"m.rodriguez@firm.co\"},\n",
    "    {\"name_1\": \"David Smith\", \"name_2\": \"Dave Smith\", \"email_1\": \"david@techcorp.com\", \"email_2\": \"dave@othercorp.com\"},\n",
    "    {\"name_1\": \"Sarah Johnson\", \"name_2\": \"Michael Rodriguez\", \"email_1\": \"sarah.johnson@company.com\", \"email_2\": \"mrodriguez@firm.co\"},\n",
    "    {\"name_1\": \"David Smith\", \"name_2\": \"Sarah Jonson\", \"email_1\": \"david@techcorp.com\", \"email_2\": \"s.johnson@company.com\"},\n",
    "])\n",
    "\n",
    "# Apply multiple fuzzy matching algorithms\n",
    "pairs = customer_pairs.select(\n",
    "    \"name_1\", \"name_2\", \"email_1\", \"email_2\",\n",
    "    \n",
    "    # Multiple fuzzy matching algorithms\n",
    "    fc.text.compute_fuzzy_ratio(fc.col(\"name_1\"), fc.col(\"name_2\"), method=\"levenshtein\").alias(\"levenshtein\"),\n",
    "    fc.text.compute_fuzzy_token_sort_ratio(fc.col(\"name_1\"), fc.col(\"name_2\")).alias(\"token_sort\"),\n",
    "    \n",
    "    # Composite score\n",
    "    ((fc.text.compute_fuzzy_ratio(fc.col(\"name_1\"), fc.col(\"name_2\"), method=\"levenshtein\") + \n",
    "     fc.text.compute_fuzzy_token_sort_ratio(fc.col(\"name_1\"), fc.col(\"name_2\"))) / 2.0\n",
    "    ).alias(\"avg_score\")\n",
    ").filter(fc.col(\"avg_score\") >= 70).order_by(fc.desc(\"avg_score\")).cache()  # Cache for subsequent AI verification\n",
    "\n",
    "print(\"🔍 FUZZY MATCHING RESULTS (70%+ similarity):\")\n",
    "pairs.select(\"name_1\", \"name_2\", \"levenshtein\", \"token_sort\", \"avg_score\").show()"
   ]
  },
  {
   "cell_type": "markdown",
   "id": "fzov2gyrxmv",
   "metadata": {},
   "source": [
    "## 🧠 Step 3: AI Verification for Uncertain Matches\n",
    "\n",
    "Use AI to verify uncertain matches by considering email domains and context:"
   ]
  },
  {
   "cell_type": "code",
   "execution_count": null,
   "id": "3kszteavz4p",
   "metadata": {},
   "outputs": [],
   "source": [
    "# 🧠 AI verification for uncertain matches (70-89% similarity)\n",
    "uncertain = pairs.filter((fc.col(\"avg_score\") >= 70) & (fc.col(\"avg_score\") < 90))\n",
    "\n",
    "ai_verified = uncertain.select(\n",
    "    \"name_1\", \"name_2\", \"email_1\", \"email_2\", \"avg_score\",\n",
    "    fc.semantic.map(\n",
    "        \"\"\"Are these the same person?\n",
    "\n",
    "        Person 1: \"{{name_1}}\" | Email: {{email_1}}\n",
    "        Person 2: \"{{name_2}}\" | Email: {{email_2}}\n",
    "\n",
    "        Consider: name variations, email domains, company context.\n",
    "        Respond: SAME_PERSON or DIFFERENT_PEOPLE with brief reason.\"\"\",\n",
    "        name_1=fc.col(\"name_1\"), name_2=fc.col(\"name_2\"), \n",
    "        email_1=fc.col(\"email_1\"), email_2=fc.col(\"email_2\"),\n",
    "        model_alias=\"matcher\"\n",
    "    ).alias(\"ai_analysis\")\n",
    ").with_column(\n",
    "    \"verdict\", \n",
    "    fc.when(fc.col(\"ai_analysis\").contains(\"SAME_PERSON\"), fc.lit(\"DUPLICATE\")).otherwise(fc.lit(\"DIFFERENT\"))\n",
    ").cache()  # Cache AI verification results\n",
    "\n",
    "print(\"🧠 AI VERIFICATION RESULTS:\")\n",
    "ai_verified.select(\"name_1\", \"name_2\", \"avg_score\", \"verdict\", \"ai_analysis\").show()\n",
    "\n",
    "duplicates = ai_verified.filter(fc.col(\"verdict\") == \"DUPLICATE\").count()\n",
    "print(f\"\\n✅ HYBRID RESULTS: {duplicates} verified duplicates found!\")\n",
    "print(\"   🔤 Algorithm caught typos: 'Johnson' vs 'Jonson'\") \n",
    "print(\"   🧠 AI considered context: Same company = same person\")"
   ]
  },
  {
   "cell_type": "code",
   "execution_count": null,
   "id": "k8o0pwvrk4",
   "metadata": {},
   "outputs": [],
   "source": [
    "session.stop()"
   ]
  }
 ],
 "metadata": {
  "kernelspec": {
   "display_name": ".venv",
   "language": "python",
   "name": "python3"
  },
  "language_info": {
   "codemirror_mode": {
    "name": "ipython",
    "version": 3
   },
   "file_extension": ".py",
   "mimetype": "text/x-python",
   "name": "python",
   "nbconvert_exporter": "python",
   "pygments_lexer": "ipython3",
   "version": "3.11.11"
  }
 },
 "nbformat": 4,
 "nbformat_minor": 5
}
