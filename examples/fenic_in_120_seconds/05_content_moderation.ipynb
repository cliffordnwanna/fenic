{
 "cells": [
  {
   "cell_type": "markdown",
   "id": "jzcgqx9w5ki",
   "metadata": {},
   "source": [
    "To run this Fenic demo, click **Runtime** > **Run all**.\n",
    "\n",
    "<div class=\"align-center\">\n",
    "<a href=\"https://github.com/typedef-ai/fenic\"><img src=\"https://github.com/typedef-ai/fenic/blob/main/docs/images/typedef-fenic-logo-github-yellow.png\" height=\"50\"></a>\n",
    "<a href=\"https://discord.gg/GdqF3J7huR\"><img src=\"https://github.com/typedef-ai/fenic/blob/main/docs/images/join-the-discord.png\" height=\"50\"></a>\n",
    "<a href=\"https://docs.fenic.ai/latest/\"><img src=\"https://github.com/typedef-ai/fenic/blob/main/docs/images/documentation.png\" height=\"50\"></a>\n",
    "\n",
    "Questions? Join the Discord and ask away! For feature requests or to leave a star, visit our [GitHub](https://github.com/typedef-ai/fenic).\n",
    "\n",
    "</div>"
   ]
  },
  {
   "cell_type": "code",
   "execution_count": null,
   "id": "b0b86403",
   "metadata": {},
   "outputs": [],
   "source": [
    "!pip uninstall -y sklearn-compat ibis-framework imbalanced-learn google-genai\n",
    "!pip install polars==1.30.0\n",
    "# === GOOGLE GEMINI ===\n",
    "#!pip install fenic[google]\n",
    "# === ANTHROPIC CLAUDE ===\n",
    "#!pip install fenic[anthropic]\n",
    "# === OPENAI (Default) ===\n",
    "!pip install fenic"
   ]
  },
  {
   "cell_type": "code",
   "execution_count": null,
   "id": "u1da11w6fyk",
   "metadata": {},
   "outputs": [],
   "source": [
    "import os \n",
    "import getpass\n",
    "\n",
    "# 🔌 MULTI-PROVIDER SETUP - Choose your preferred LLM provider\n",
    "# Uncomment ONE of the provider sections below:\n",
    "\n",
    "# === OPENAI (Default) ===\n",
    "os.environ[\"OPENAI_API_KEY\"] = getpass.getpass(\"OpenAI API Key:\")\n",
    "\n",
    "# === GOOGLE GEMINI ===\n",
    "# os.environ[\"GOOGLE_API_KEY\"] = getpass.getpass(\"Google API Key:\")\n",
    "\n",
    "# === ANTHROPIC CLAUDE ===\n",
    "# os.environ[\"ANTHROPIC_API_KEY\"] = getpass.getpass(\"Anthropic API Key:\")"
   ]
  },
  {
   "cell_type": "markdown",
   "id": "header",
   "metadata": {},
   "source": [
    "# 🛡️ Content Moderation\n",
    "\n",
    "**Hook:** *\"AI content moderation that understands context, not just keywords\"*\n",
    "\n",
    "Traditional content moderation relies on keyword filters that miss sophisticated bad actors. \"Make money from home\" could be legitimate advice or a romance scam setup. AI content moderation understands context, intent, and subtle manipulation tactics that rule-based systems completely miss.\n",
    "\n",
    "**What you'll see in this 2-minute demo:**\n",
    "- 📱 **Dating app messages** - Mix of legitimate conversations and sophisticated scams\n",
    "- 🤖 **AI moderation** - Context-aware safety analysis with structured results\n",
    "- 🎯 **Structured results** - Violation types, safety flags, and human-readable explanations\n",
    "- 🛡️ **Catch what keywords miss** - Romance scams, crypto pitches, and harassment detection\n",
    "\n",
    "No keyword lists, no brittle rules, no false positives - just intelligent content understanding."
   ]
  },
  {
   "cell_type": "code",
   "execution_count": null,
   "id": "demo",
   "metadata": {},
   "outputs": [],
   "source": [
    "import fenic as fc\n",
    "from pydantic import BaseModel, Field\n",
    "from typing import Literal\n",
    "\n",
    "# ⚡ Configure for content moderation\n",
    "session = fc.Session.get_or_create(fc.SessionConfig(\n",
    "    app_name=\"content_moderation_demo\",\n",
    "    semantic=fc.SemanticConfig(\n",
    "        language_models={\n",
    "            \"moderator\": fc.OpenAILanguageModel(model_name=\"gpt-4o-mini\", rpm=500, tpm=200_000),\n",
    "            # \"moderator\": fc.GoogleDeveloperLanguageModel(model_name=\"gemini-2.5-flash-lite\", rpm=1000, tpm=1_000_000),\n",
    "            # \"moderator\": fc.AnthropicLanguageModel(model_name=\"claude-3-5-sonnet-20241022\", rpm=500, tpm=200_000)\n",
    "        }\n",
    "    )\n",
    "))\n",
    "\n",
    "print(\"✅ Content moderation session configured\")"
   ]
  },
  {
   "cell_type": "markdown",
   "id": "2wybo92er4t",
   "metadata": {},
   "source": [
    "## 📱 Step 1: Structured Moderation Schema\n",
    "\n",
    "Define exactly what we want to extract from each message for safety analysis:"
   ]
  },
  {
   "cell_type": "code",
   "execution_count": null,
   "id": "l176gauqvsr",
   "metadata": {},
   "outputs": [],
   "source": [
    "# 🎯 Structured moderation schema using Pydantic\n",
    "class ModerationResult(BaseModel):\n",
    "    is_safe: bool = Field(description=\"Whether content is safe for the platform\")\n",
    "    violation_type: Literal[\"spam\", \"scam\", \"harassment\", \"safe\"] = Field(description=\"Type of violation detected\")\n",
    "    reason: str = Field(description=\"Brief explanation\")\n",
    "\n",
    "print(\"✅ Moderation schema defined:\")\n",
    "print(\"   • is_safe: Boolean safety flag (True/False)\")\n",
    "print(\"   • violation_type: Category of violation (spam/scam/harassment/safe)\")  \n",
    "print(\"   • reason: Human-readable explanation\")"
   ]
  },
  {
   "cell_type": "markdown",
   "id": "1uesm7o33zr",
   "metadata": {},
   "source": [
    "## 💬 Step 2: Dating App Messages (Including Scams)\n",
    "\n",
    "Mix of legitimate messages and sophisticated scams that keyword filters would miss:"
   ]
  },
  {
   "cell_type": "code",
   "execution_count": null,
   "id": "u9nxqik6wi",
   "metadata": {},
   "outputs": [],
   "source": [
    "# 📱 Dating app messages with sophisticated scams\n",
    "messages = session.create_dataframe([\n",
    "    {\"id\": \"M1\", \"content\": \"Hey beautiful! Want to chat privately? I can help you make easy money from home 💰\"},\n",
    "    {\"id\": \"M2\", \"content\": \"This restaurant has amazing pasta! Perfect for a romantic dinner 🍝❤️\"},\n",
    "    {\"id\": \"M3\", \"content\": \"I'm a successful entrepreneur. Own multiple properties. Let's grab coffee!\"},\n",
    "    {\"id\": \"M4\", \"content\": \"You seem special. Here's my crypto investment strategy that made me rich...\"},\n",
    "    {\"id\": \"M5\", \"content\": \"You're ugly and stupid. Nobody will ever love you. Why don't you just disappear already?\"},\n",
    "    {\"id\": \"M6\", \"content\": \"CLICK HERE NOW! Amazing singles in your area! Meet them tonight! Limited time offer! ACT FAST!!!\"}\n",
    "])\n",
    "\n",
    "print(\"📱 Dating App Messages:\")\n",
    "messages.show()\n",
    "print(\"\\nNotice: Mix of legitimate messages, scams, harassment, and spam!\")"
   ]
  },
  {
   "cell_type": "markdown",
   "id": "q82t3hdxmn",
   "metadata": {},
   "source": [
    "## 🛡️ Step 3: AI Content Moderation\n",
    "\n",
    "Extract structured moderation results using semantic.extract with our schema:"
   ]
  },
  {
   "cell_type": "code",
   "execution_count": null,
   "id": "2dw2ao9poyb",
   "metadata": {},
   "outputs": [],
   "source": [
    "# 🛡️ AI moderation using structured extraction\n",
    "moderated = messages.select(\n",
    "    \"id\",\n",
    "    fc.semantic.extract(\n",
    "        \"content\",\n",
    "        ModerationResult,\n",
    "        model_alias=\"moderator\"\n",
    "    ).alias(\"moderation\")\n",
    ").cache()  # Cache moderation results\n",
    "\n",
    "results = moderated.select(\n",
    "    \"id\",\n",
    "    moderated.moderation.is_safe.alias(\"safe\"),\n",
    "    moderated.moderation.violation_type.alias(\"violation\"),\n",
    "    moderated.moderation.reason.alias(\"reason\")\n",
    ")\n",
    "\n",
    "print(\"🛡️ AI MODERATION RESULTS:\")\n",
    "results.show()\n",
    "\n",
    "unsafe_count = results.filter(~fc.col(\"safe\")).count()\n",
    "print(f\"\\n🎯 CAUGHT {unsafe_count} unsafe messages!\")\n",
    "print(\"   💰 Money scam detected\")\n",
    "print(\"   🪙 Crypto pitch flagged\") \n",
    "print(\"   😡 Harassment caught\")\n",
    "print(\"   📢 Spam identified\")\n",
    "print(\"   🍝 Restaurant recommendation approved\")\n",
    "print(\"\\n💡 AI understands context and intent that keyword filters miss!\")"
   ]
  },
  {
   "cell_type": "code",
   "execution_count": null,
   "id": "m5s5txkqn",
   "metadata": {},
   "outputs": [],
   "source": [
    "session.stop()"
   ]
  }
 ],
 "metadata": {
  "kernelspec": {
   "display_name": "Python 3",
   "language": "python",
   "name": "python3"
  },
  "language_info": {
   "codemirror_mode": {
    "name": "ipython",
    "version": 3
   },
   "file_extension": ".py",
   "mimetype": "text/x-python",
   "name": "python",
   "nbconvert_exporter": "python",
   "pygments_lexer": "ipython3",
   "version": "3.8.0"
  }
 },
 "nbformat": 4,
 "nbformat_minor": 5
}
