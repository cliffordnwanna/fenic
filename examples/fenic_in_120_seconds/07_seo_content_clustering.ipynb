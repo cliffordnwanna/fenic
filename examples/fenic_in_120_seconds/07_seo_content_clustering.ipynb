{
 "cells": [
  {
   "cell_type": "markdown",
   "metadata": {},
   "source": "To run this Fenic demo, click **Runtime** > **Run all**.\n\n<div class=\"align-center\">\n<a href=\"https://github.com/typedef-ai/fenic\"><img src=\"https://github.com/typedef-ai/fenic/blob/main/docs/images/typedef-fenic-logo-github-yellow.png\" height=\"50\"></a>\n<a href=\"https://discord.gg/GdqF3J7huR\"><img src=\"https://github.com/typedef-ai/fenic/blob/main/docs/images/join-the-discord.png\" height=\"50\"></a>\n<a href=\"https://docs.fenic.ai/latest/\"><img src=\"https://github.com/typedef-ai/fenic/blob/main/docs/images/documentation.png\" height=\"50\"></a>\n\nQuestions? Join the Discord and ask away! For feature requests or to leave a star, visit our [GitHub](https://github.com/typedef-ai/fenic).\n\n</div>"
  },
  {
   "cell_type": "code",
   "execution_count": null,
   "metadata": {},
   "outputs": [],
   "source": [
    "!pip uninstall -y sklearn-compat ibis-framework imbalanced-learn google-genai\n",
    "!pip install polars==1.30.0\n",
    "# === GOOGLE GEMINI ===\n",
    "#!pip install fenic[google]\n",
    "# === ANTHROPIC CLAUDE ===\n",
    "#!pip install fenic[anthropic]\n",
    "# === OPENAI (Default) ===\n",
    "!pip install fenic"
   ]
  },
  {
   "cell_type": "code",
   "execution_count": null,
   "metadata": {},
   "outputs": [],
   "source": [
    "import os \n",
    "import getpass\n",
    "\n",
    "# 🔌 MULTI-PROVIDER SETUP - Choose your preferred LLM provider\n",
    "# Uncomment ONE of the provider sections below:\n",
    "\n",
    "# === OPENAI (Default) ===\n",
    "os.environ[\"OPENAI_API_KEY\"] = getpass.getpass(\"OpenAI API Key:\")\n",
    "\n",
    "# === GOOGLE GEMINI ===\n",
    "# os.environ[\"GOOGLE_API_KEY\"] = getpass.getpass(\"Google API Key:\")\n",
    "\n",
    "# === ANTHROPIC CLAUDE ===\n",
    "# os.environ[\"ANTHROPIC_API_KEY\"] = getpass.getpass(\"Anthropic API Key:\")"
   ]
  },
  {
   "cell_type": "markdown",
   "metadata": {},
   "source": [
    "# 🔗 SEO Content Clustering\n",
    "\n",
    "**Hook:** *\"Group related keywords by semantic meaning, not just string similarity\"*\n",
    "\n",
    "Traditional keyword research groups by exact matches - \"machine learning\" vs \"ML algorithms\" are separate clusters. Semantic clustering understands that these concepts are related. Perfect for content strategy, topic authority, and search intent analysis.\n",
    "\n",
    "**What you'll see in this 2-minute demo:**\n",
    "- 📊 **Mixed keyword data** - Search terms with different phrasings but similar intent\n",
    "- 🧠 **Semantic clustering** - Group by meaning using `semantic.group_by`\n",
    "- 📈 **Search metrics** - Aggregate volume and difficulty across semantic clusters\n",
    "- 🎯 **Content strategy** - Unified topics for maximum SEO impact\n",
    "\n",
    "This transforms keyword chaos into actionable content pillars."
   ]
  },
  {
   "cell_type": "code",
   "execution_count": null,
   "metadata": {},
   "outputs": [],
   "source": [
    "import fenic as fc\n",
    "from fenic.core.types.classify import ClassDefinition\n",
    "\n",
    "# ⚡ Configure for content analysis\n",
    "session = fc.Session.get_or_create(fc.SessionConfig(\n",
    "    app_name=\"seo_clustering_demo\",\n",
    "    semantic=fc.SemanticConfig(\n",
    "        language_models={\n",
    "            \"content\": fc.OpenAILanguageModel(model_name=\"gpt-4o-mini\", rpm=500, tpm=200_000),\n",
    "            # \"content\": fc.GoogleDeveloperLanguageModel(model_name=\"gemini-2.5-flash-lite\", rpm=1000, tpm=1_000_000),\n",
    "            # \"content\": fc.AnthropicLanguageModel(model_name=\"claude-3-5-sonnet-20241022\", rpm=500, tpm=200_000)\n",
    "        }\n",
    "    )\n",
    "))\n",
    "\n",
    "print(\"✅ SEO content clustering session configured\")"
   ]
  },
  {
   "cell_type": "markdown",
   "metadata": {},
   "source": [
    "## 📊 Step 1: Mixed Keyword Research Data\n",
    "\n",
    "Real SEO keywords with different phrasings but related search intent:"
   ]
  },
  {
   "cell_type": "code",
   "execution_count": null,
   "metadata": {},
   "outputs": [],
   "source": [
    "# 📊 SEO keyword data with semantic overlap\n",
    "keywords = session.create_dataframe([\n",
    "    {\"keyword\": \"machine learning algorithms\", \"search_volume\": 12000, \"difficulty\": 78},\n",
    "    {\"keyword\": \"ML models explained\", \"search_volume\": 8500, \"difficulty\": 65},\n",
    "    {\"keyword\": \"artificial intelligence basics\", \"search_volume\": 15000, \"difficulty\": 72},\n",
    "    {\"keyword\": \"AI fundamentals\", \"search_volume\": 9200, \"difficulty\": 68},\n",
    "    {\"keyword\": \"deep learning tutorial\", \"search_volume\": 11500, \"difficulty\": 82},\n",
    "    {\"keyword\": \"neural networks guide\", \"search_volume\": 7800, \"difficulty\": 75},\n",
    "    {\"keyword\": \"data science career\", \"search_volume\": 18500, \"difficulty\": 71},\n",
    "    {\"keyword\": \"data scientist jobs\", \"search_volume\": 14200, \"difficulty\": 69},\n",
    "    {\"keyword\": \"data analytics roles\", \"search_volume\": 6700, \"difficulty\": 58}\n",
    "])\n",
    "\n",
    "print(\"📊 SEO Keywords - Notice the semantic overlap:\")\n",
    "keywords.show()"
   ]
  },
  {
   "cell_type": "markdown",
   "metadata": {},
   "source": [
    "## 🧠 Step 2: Semantic Clustering\n",
    "\n",
    "Group keywords by semantic meaning instead of exact string matches:"
   ]
  },
  {
   "cell_type": "code",
   "execution_count": null,
   "metadata": {},
   "outputs": [],
   "source": [
    "# 🔗 First, classify keywords into semantic clusters with descriptive definitions\n",
    "classified_keywords = keywords.select(\n",
    "    \"*\",\n",
    "    fc.semantic.classify(\n",
    "        \"keyword\",\n",
    "        [\n",
    "            ClassDefinition(label=\"machine_learning\", description=\"Keywords related to machine learning algorithms, models, and general ML concepts including artificial intelligence basics\"),\n",
    "            ClassDefinition(label=\"deep_learning\", description=\"Keywords specifically about deep learning, neural networks, and advanced AI techniques\"),\n",
    "            ClassDefinition(label=\"data_science_careers\", description=\"Keywords focused on data science jobs, career paths, roles, and professional opportunities in analytics\")\n",
    "        ],\n",
    "        model_alias=\"content\"\n",
    "    ).alias(\"cluster_label\")\n",
    ").cache()\n",
    "\n",
    "print(\"🏷️ KEYWORD CLASSIFICATION:\")\n",
    "classified_keywords.show()\n",
    "\n",
    "# 🔗 Then group by cluster and use semantic.reduce for insights\n",
    "clusters = classified_keywords.group_by(\n",
    "    \"cluster_label\"\n",
    ").agg(\n",
    "    fc.count(\"*\").alias(\"keyword_count\"),\n",
    "    fc.sum(\"search_volume\").alias(\"total_volume\"),\n",
    "    fc.avg(\"difficulty\").alias(\"avg_difficulty\"),\n",
    "    fc.collect_list(\"keyword\").alias(\"keywords_in_cluster\"),\n",
    "    fc.semantic.reduce(\n",
    "        \"Analyze these related keywords and provide a concise summary of the search intent theme and content strategy recommendations.\",\n",
    "        column=fc.col(\"keyword\"),\n",
    "        model_alias=\"content\"\n",
    "    ).alias(\"theme_summary\")\n",
    ").cache()  # Cache clustering results\n",
    "\n",
    "print(\"\\n🔗 SEMANTIC KEYWORD CLUSTERS:\")\n",
    "clusters.show()"
   ]
  },
  {
   "cell_type": "markdown",
   "metadata": {},
   "source": [
    "## 📈 Step 3: Content Strategy Insights\n",
    "\n",
    "Analyze cluster metrics to prioritize content creation:"
   ]
  },
  {
   "cell_type": "code",
   "execution_count": null,
   "metadata": {},
   "outputs": [],
   "source": [
    "# 📈 Content strategy analysis\n",
    "total_keywords = keywords.count()\n",
    "cluster_count = clusters.count()\n",
    "\n",
    "print(\"📈 CONTENT STRATEGY INSIGHTS:\")\n",
    "print(f\"   • {total_keywords} keywords grouped into {cluster_count} semantic clusters\")\n",
    "print(f\"   • Reduced content topics by {((total_keywords - cluster_count) / total_keywords * 100):.0f}%\")\n",
    "\n",
    "# Show cluster performance metrics with theme summaries\n",
    "strategy_insights = clusters.select(\n",
    "    \"cluster_label\",\n",
    "    \"keyword_count\", \n",
    "    \"total_volume\",\n",
    "    \"avg_difficulty\",\n",
    "    \"theme_summary\"\n",
    ").order_by(fc.desc(\"total_volume\"))\n",
    "\n",
    "print(\"\\n🎯 TOP CONTENT OPPORTUNITIES:\")\n",
    "strategy_insights.show()\n",
    "\n",
    "print(\"\\n💡 STRATEGIC BENEFITS:\")\n",
    "print(\"   • Topic authority: Target clusters instead of individual keywords\")\n",
    "print(\"   • Content efficiency: One article covers multiple related searches\") \n",
    "print(\"   • Better user experience: Comprehensive topic coverage\")\n",
    "print(\"   • AI-powered insights: Theme summaries guide content creation\")\n",
    "print(\"   • Data-driven prioritization: Focus on high-volume, low-difficulty clusters\")"
   ]
  },
  {
   "cell_type": "code",
   "execution_count": null,
   "metadata": {},
   "outputs": [],
   "source": [
    "session.stop()"
   ]
  }
 ],
 "metadata": {
  "kernelspec": {
   "display_name": "Python 3",
   "language": "python",
   "name": "python3"
  },
  "language_info": {
   "codemirror_mode": {
    "name": "ipython",
    "version": 3
   },
   "file_extension": ".py",
   "mimetype": "text/x-python",
   "name": "python",
   "nbconvert_exporter": "python",
   "pygments_lexer": "ipython3",
   "version": "3.8.5"
  }
 },
 "nbformat": 4,
 "nbformat_minor": 4
}