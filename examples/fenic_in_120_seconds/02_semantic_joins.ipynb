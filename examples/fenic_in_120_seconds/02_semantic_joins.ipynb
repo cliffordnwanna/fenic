{
 "cells": [
  {
   "cell_type": "markdown",
   "id": "sv55eb70s5",
   "metadata": {},
   "source": [
    "To run this Fenic demo, click **Runtime** > **Run all**.\n",
    "\n",
    "<div class=\"align-center\">\n",
    "<a href=\"https://github.com/typedef-ai/fenic\"><img src=\"https://github.com/typedef-ai/fenic/blob/main/docs/images/typedef-fenic-logo-github-yellow.png?raw=true\" height=\"50\"></a>\n",
    "<a href=\"https://discord.gg/GdqF3J7huR\"><img src=\"https://github.com/typedef-ai/fenic/blob/main/docs/images/join-the-discord.png?raw=true\" height=\"50\"></a>\n",
    "<a href=\"https://docs.fenic.ai/latest/\"><img src=\"https://github.com/typedef-ai/fenic/blob/main/docs/images/documentation.png?raw=true\" height=\"50\"></a>\n",
    "\n",
    "Questions? Join the Discord and ask away! For feature requests or to leave a star, visit our [GitHub](https://github.com/typedef-ai/fenic).\n",
    "\n",
    "</div>"
   ]
  },
  {
   "cell_type": "code",
   "execution_count": null,
   "id": "7rutuna5y5l",
   "metadata": {},
   "outputs": [],
   "source": [
    "!pip uninstall -y sklearn-compat ibis-framework imbalanced-learn google-genai\n",
    "!pip install polars==1.30.0\n",
    "# === GOOGLE GEMINI ===\n",
    "#!pip install fenic[google]\n",
    "# === ANTHROPIC CLAUDE ===\n",
    "#!pip install fenic[anthropic]\n",
    "# === OPENAI (Default) ===\n",
    "!pip install fenic"
   ]
  },
  {
   "cell_type": "code",
   "execution_count": null,
   "id": "l2g89jcy8hs",
   "metadata": {},
   "outputs": [],
   "source": [
    "import os \n",
    "import getpass\n",
    "\n",
    "# 🔌 MULTI-PROVIDER SETUP - Choose your preferred LLM provider\n",
    "# Uncomment ONE of the provider sections below:\n",
    "\n",
    "# === OPENAI (Default) ===\n",
    "os.environ[\"OPENAI_API_KEY\"] = getpass.getpass(\"OpenAI API Key:\")\n",
    "\n",
    "# === GOOGLE GEMINI ===\n",
    "# os.environ[\"GOOGLE_API_KEY\"] = getpass.getpass(\"Google API Key:\")\n",
    "\n",
    "# === ANTHROPIC CLAUDE ===\n",
    "# os.environ[\"ANTHROPIC_API_KEY\"] = getpass.getpass(\"Anthropic API Key:\")"
   ]
  },
  {
   "cell_type": "markdown",
   "id": "header",
   "metadata": {},
   "source": [
    "# 🔗 Semantic Joins\n",
    "\n",
    "**Hook:** *\"What if SQL joins understood language instead of exact strings?\"*\n",
    "\n",
    "Traditional joins require exact matches - \"NYC\" ≠ \"New York City\" means zero results. Semantic joins understand that these refer to the same place. This is revolutionary for messy real-world data where entities appear in different formats across systems.\n",
    "\n",
    "**What you'll see in this 2-minute demo:**\n",
    "- 🏢 **Mismatched company locations** - \"SF Bay Area\", \"NYC\", \"The Big Apple\"\n",
    "- 🌡️ **Official weather city names** - \"San Francisco\", \"New York City\"\n",
    "- 🔗 **Magic matching** - Watch \"NYC\" connect to \"New York City\" automatically\n",
    "- 📊 **100% join success** vs 14% with traditional exact matching\n",
    "\n",
    "No data cleaning, no mapping tables, no ETL - just semantic understanding."
   ]
  },
  {
   "cell_type": "code",
   "execution_count": null,
   "id": "demo",
   "metadata": {},
   "outputs": [],
   "source": [
    "import fenic as fc\n",
    "\n",
    "# ⚡ One-line setup for semantic operations\n",
    "session = fc.Session.get_or_create(fc.SessionConfig(\n",
    "    app_name=\"semantic_joins_demo\",\n",
    "    semantic=fc.SemanticConfig(\n",
    "        language_models={\n",
    "            \"smart\": fc.OpenAILanguageModel(model_name=\"gpt-4o-mini\", rpm=500, tpm=200_000),\n",
    "            # \"smart\": fc.GoogleDeveloperLanguageModel(model_name=\"gemini-2.5-flash-lite\", rpm=1000, tpm=1_000_000),\n",
    "            # \"smart\": fc.AnthropicLanguageModel(model_name=\"claude-3-5-sonnet-20241022\", rpm=500, tpm=200_000)\n",
    "        }\n",
    "    )\n",
    "))\n",
    "\n",
    "print(\"✅ Fenic session configured for semantic join operations\")"
   ]
  },
  {
   "cell_type": "markdown",
   "id": "lw0lkanu0f",
   "metadata": {},
   "source": [
    "## 🏢 Step 1: Company Data (The Messy Reality)\n",
    "\n",
    "Real business databases are full of inconsistent location names. Here's what you actually find:"
   ]
  },
  {
   "cell_type": "code",
   "execution_count": null,
   "id": "cjzefyu9pw",
   "metadata": {},
   "outputs": [],
   "source": [
    "# 🏢 Real company data with messy location names (exactly what you find in business databases)\n",
    "companies = session.create_dataframe([\n",
    "    {\"company\": \"TechCorp\", \"location\": \"SF Bay Area\", \"employees\": 1200, \"revenue\": \"$50M\"},\n",
    "    {\"company\": \"DataFlow Inc\", \"location\": \"NYC\", \"employees\": 800, \"revenue\": \"$30M\"},\n",
    "    {\"company\": \"CloudWorks\", \"location\": \"Seattle\", \"employees\": 650, \"revenue\": \"$25M\"},\n",
    "    {\"company\": \"AI Dynamics\", \"location\": \"The Big Apple\", \"employees\": 450, \"revenue\": \"$18M\"},\n",
    "    {\"company\": \"MediaTech\", \"location\": \"LA\", \"employees\": 320, \"revenue\": \"$12M\"}\n",
    "])\n",
    "\n",
    "print(\"🏢 Company Locations (Messy Real-World Data):\")\n",
    "companies.show()"
   ]
  },
  {
   "cell_type": "markdown",
   "id": "rgx4i1i7j7d",
   "metadata": {},
   "source": [
    "## 🌡️ Step 2: Weather Data (The Clean Standard)\n",
    "\n",
    "External APIs like weather services use official, standardized city names:"
   ]
  },
  {
   "cell_type": "code",
   "execution_count": null,
   "id": "usdukxd6zf",
   "metadata": {},
   "outputs": [],
   "source": [
    "# 🌡️ Official weather data with standardized city names (from weather APIs)\n",
    "weather = session.create_dataframe([\n",
    "    {\"city\": \"San Francisco\", \"temp_f\": 68, \"condition\": \"Foggy\", \"air_quality\": \"Good\"},\n",
    "    {\"city\": \"New York City\", \"temp_f\": 72, \"condition\": \"Sunny\", \"air_quality\": \"Moderate\"},\n",
    "    {\"city\": \"Seattle\", \"temp_f\": 65, \"condition\": \"Cloudy\", \"air_quality\": \"Good\"},\n",
    "    {\"city\": \"Los Angeles\", \"temp_f\": 78, \"condition\": \"Sunny\", \"air_quality\": \"Unhealthy\"}\n",
    "])\n",
    "\n",
    "print(\"🌡️ Weather Data (Clean Official Names):\")\n",
    "weather.show()\n",
    "\n",
    "print(\"\\n❌ THE PROBLEM: Traditional SQL JOIN would find ZERO matches!\")\n",
    "print(\"   • 'SF Bay Area' ≠ 'San Francisco'\")\n",
    "print(\"   • 'NYC' ≠ 'New York City'\")\n",
    "print(\"   • 'The Big Apple' ≠ 'New York City'\")\n",
    "print(\"   • 'LA' ≠ 'Los Angeles'\")"
   ]
  },
  {
   "cell_type": "markdown",
   "id": "qy5fuqednu9",
   "metadata": {},
   "source": [
    "## ✨ Step 3: The Semantic Join Magic\n",
    "\n",
    "This is where the breakthrough happens - language understanding meets data joining!"
   ]
  },
  {
   "cell_type": "code",
   "execution_count": null,
   "id": "r1q7izfhrar",
   "metadata": {},
   "outputs": [],
   "source": [
    "# ✨ This is where the magic happens - language understanding meets data joining\n",
    "semantic_result = companies.semantic.join(\n",
    "    weather,\n",
    "    predicate=(\n",
    "        \"The location '{{left_on}}' refers to the same metropolitan area or city, or is geographically nearby to '{{right_on}}'.\"\n",
    "    ),\n",
    "    left_on=fc.col(\"location\"),      # Messy company locations\n",
    "    right_on=fc.col(\"city\"),         # Clean weather city names\n",
    "    model_alias=\"smart\"\n",
    ").cache()  # Cache results to avoid re-running LLM calls\n",
    "\n",
    "# Show the incredible results\n",
    "joined_data = semantic_result.select(\n",
    "    \"company\",\n",
    "    \"location\",              # Original messy name\n",
    "    \"city\",                  # Matched clean name  \n",
    "    \"temp_f\",\n",
    "    \"condition\",\n",
    "    \"air_quality\"\n",
    ")\n",
    "\n",
    "print(\"🎯 SEMANTIC JOIN RESULTS: Language Understanding in Action!\")\n",
    "print(\"=\" * 75)\n",
    "joined_data.show()"
   ]
  },
  {
   "cell_type": "markdown",
   "id": "lq8ioljmk3",
   "metadata": {},
   "source": [
    "## 📊 Step 4: Business Impact Analysis\n",
    "\n",
    "Let's quantify the breakthrough results and business impact:"
   ]
  },
  {
   "cell_type": "code",
   "execution_count": null,
   "id": "3mo6zydbnau",
   "metadata": {},
   "outputs": [],
   "source": [
    "# Calculate the incredible success rate\n",
    "successful_matches = semantic_result.filter(fc.col(\"city\").is_not_null()).count()\n",
    "total_companies = companies.count()\n",
    "success_rate = (successful_matches / total_companies) * 100\n",
    "\n",
    "print(\"📊 SEMANTIC JOIN SUCCESS METRICS:\")\n",
    "print(f\"   • Successful matches: {successful_matches}/{total_companies} ({success_rate:.0f}%)\")\n",
    "print(\"   • 'SF Bay Area' → 'San Francisco' ✅\")\n",
    "print(\"   • 'NYC' → 'New York City' ✅\")\n",
    "print(\"   • 'The Big Apple' → 'New York City' ✅\")\n",
    "print(\"   • 'LA' → 'Los Angeles' ✅\")\n",
    "\n",
    "print(\"\\n💡 GAME-CHANGING RESULTS:\")\n",
    "print(\"   Traditional exact matching: 0% success rate\")\n",
    "print(f\"   Fenic semantic matching: {success_rate:.0f}% success rate\")\n",
    "print(\"   Hours of ETL work → ONE line of code\")\n",
    "\n",
    "# Business impact analysis - simplified\n",
    "companies_with_weather = semantic_result.filter(fc.col(\"air_quality\").is_not_null()).count()\n",
    "\n",
    "print(\"\\n🏢 BUSINESS INTELLIGENCE UNLOCKED:\")\n",
    "print(f\"   • {companies_with_weather} companies now have weather context\")\n",
    "print(\"   • Can analyze productivity vs weather patterns\")\n",
    "print(\"   • Enable location-based business decisions\")"
   ]
  },
  {
   "cell_type": "code",
   "execution_count": null,
   "id": "sp9m5a1hub8",
   "metadata": {},
   "outputs": [],
   "source": [
    "session.stop()"
   ]
  }
 ],
 "metadata": {
  "kernelspec": {
   "display_name": "Python 3",
   "language": "python",
   "name": "python3"
  },
  "language_info": {
   "codemirror_mode": {
    "name": "ipython",
    "version": 3
   },
   "file_extension": ".py",
   "mimetype": "text/x-python",
   "name": "python",
   "nbconvert_exporter": "python",
   "pygments_lexer": "ipython3",
   "version": "3.8.0"
  }
 },
 "nbformat": 4,
 "nbformat_minor": 5
}
