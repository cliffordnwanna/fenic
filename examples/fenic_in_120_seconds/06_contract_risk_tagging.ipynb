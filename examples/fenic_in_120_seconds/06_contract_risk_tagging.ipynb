{
 "cells": [
  {
   "cell_type": "markdown",
   "metadata": {},
   "source": [
    "To run this Fenic demo, click **Runtime** > **Run all**.\n",
    "\n",
    "<div class=\"align-center\">\n",
    "<a href=\"https://github.com/typedef-ai/fenic\"><img src=\"https://github.com/typedef-ai/fenic/blob/main/docs/images/typedef-fenic-logo-github-yellow.png\" height=\"50\"></a>\n",
    "<a href=\"https://discord.gg/GdqF3J7huR\"><img src=\"https://github.com/typedef-ai/fenic/blob/main/docs/images/join-the-discord.png\" height=\"50\"></a>\n",
    "<a href=\"https://docs.fenic.ai/latest/\"><img src=\"https://github.com/typedef-ai/fenic/blob/main/docs/images/documentation.png\" height=\"50\"></a>\n",
    "\n",
    "Questions? Join the Discord and ask away! For feature requests or to leave a star, visit our [GitHub](https://github.com/typedef-ai/fenic).\n",
    "\n",
    "</div>"
   ]
  },
  {
   "cell_type": "code",
   "execution_count": null,
   "metadata": {},
   "outputs": [],
   "source": [
    "!pip uninstall -y sklearn-compat ibis-framework imbalanced-learn google-genai\n",
    "!pip install polars==1.30.0\n",
    "# === GOOGLE GEMINI ===\n",
    "#!pip install fenic[google]\n",
    "# === ANTHROPIC CLAUDE ===\n",
    "#!pip install fenic[anthropic]\n",
    "# === OPENAI (Default) ===\n",
    "!pip install fenic"
   ]
  },
  {
   "cell_type": "code",
   "execution_count": null,
   "metadata": {},
   "outputs": [],
   "source": [
    "import os \n",
    "import getpass\n",
    "\n",
    "# 🔌 MULTI-PROVIDER SETUP - Choose your preferred LLM provider\n",
    "# Uncomment ONE of the provider sections below:\n",
    "\n",
    "# === OPENAI (Default) ===\n",
    "os.environ[\"OPENAI_API_KEY\"] = getpass.getpass(\"OpenAI API Key:\")\n",
    "\n",
    "# === GOOGLE GEMINI ===\n",
    "# os.environ[\"GOOGLE_API_KEY\"] = getpass.getpass(\"Google API Key:\")\n",
    "\n",
    "# === ANTHROPIC CLAUDE ===\n",
    "# os.environ[\"ANTHROPIC_API_KEY\"] = getpass.getpass(\"Anthropic API Key:\")"
   ]
  },
  {
   "cell_type": "markdown",
   "metadata": {},
   "source": [
    "# ⚖️ Contract Risk Tagging\n",
    "\n",
    "**Hook:** *\"AI that reads legal contracts and flags risks instantly\"*\n",
    "\n",
    "Legal review takes weeks. Contract risks hide in dense legalese. Watch Fenic extract structured risk data from contract clauses in seconds - liability caps, termination rights, indemnification issues. This is AI-powered legal analysis that scales.\n",
    "\n",
    "**What you'll see in this 2-minute demo:**\n",
    "- 📋 **Contract clauses** - Real liability, termination, and indemnification language\n",
    "- 🎯 **Risk extraction** - Structured data from unstructured legal text\n",
    "- ⚠️ **Severity scoring** - Quantified risk levels (1-5 scale)\n",
    "- 🔍 **Explanation text** - Human-readable risk summaries for legal teams\n",
    "\n",
    "Perfect for contract management, legal tech, and due diligence workflows."
   ]
  },
  {
   "cell_type": "code",
   "execution_count": null,
   "metadata": {},
   "outputs": [],
   "source": [
    "import fenic as fc\n",
    "from pydantic import BaseModel, Field\n",
    "from typing import Literal\n",
    "\n",
    "# ⚡ Configure for legal document analysis\n",
    "session = fc.Session.get_or_create(fc.SessionConfig(\n",
    "    app_name=\"contract_risk_demo\",\n",
    "    semantic=fc.SemanticConfig(\n",
    "        language_models={\n",
    "            \"legal\": fc.OpenAILanguageModel(model_name=\"gpt-4o\", rpm=100, tpm=100_000),\n",
    "            # \"legal\": fc.GoogleDeveloperLanguageModel(model_name=\"gemini-2.5-flash-lite\", rpm=1000, tpm=1_000_000),\n",
    "            # \"legal\": fc.AnthropicLanguageModel(model_name=\"claude-3-5-sonnet-20241022\", rpm=100, tpm=100_000)\n",
    "        }\n",
    "    )\n",
    "))\n",
    "\n",
    "print(\"✅ Legal analysis session configured with OpenAI GPT-4o\")"
   ]
  },
  {
   "cell_type": "markdown",
   "metadata": {},
   "source": [
    "## 📋 Step 1: Contract Risk Schema\n",
    "\n",
    "Define exactly what legal risks we want to extract from contract language:"
   ]
  },
  {
   "cell_type": "code",
   "execution_count": null,
   "metadata": {},
   "outputs": [],
   "source": [
    "# ⚖️ Structured legal risk schema\n",
    "class ContractRisk(BaseModel):\n",
    "    risk_type: Literal[\"liability\", \"termination\", \"indemnification\", \"payment\"] = Field(description=\"Type of legal risk identified\")\n",
    "    severity: int = Field(ge=1, le=5, description=\"Risk level (1=low, 5=critical)\")\n",
    "    description: str = Field(description=\"Brief explanation of the risk\")\n",
    "    recommendation: str = Field(description=\"Suggested action or negotiation point\")\n",
    "    affects_party: Literal[\"us\", \"them\", \"mutual\"] = Field(description=\"Which party bears the risk\")\n",
    "\n",
    "print(\"📋 Legal Risk Extraction Schema:\")\n",
    "print(\"   • risk_type: Category of legal risk (liability/termination/indemnification/payment)\")\n",
    "print(\"   • severity: 1-5 criticality score\")\n",
    "print(\"   • description: Human-readable risk summary\")\n",
    "print(\"   • recommendation: Legal team guidance\")\n",
    "print(\"   • affects_party: Risk allocation analysis (us/them/mutual)\")"
   ]
  },
  {
   "cell_type": "markdown",
   "metadata": {},
   "source": [
    "## 📄 Step 2: Real Contract Clauses\n",
    "\n",
    "Analyze actual contract language with hidden risks and problematic terms:"
   ]
  },
  {
   "cell_type": "code",
   "execution_count": null,
   "metadata": {},
   "outputs": [],
   "source": [
    "# 📄 Real contract clauses with various risk levels\n",
    "contract_clauses = session.create_dataframe([\n",
    "    {\n",
    "        \"clause_id\": \"TERM-001\", \n",
    "        \"clause_type\": \"Termination\",\n",
    "        \"text\": \"Either party may terminate this agreement with 30 days written notice. Upon termination, Company shall immediately cease all work and return confidential information.\"\n",
    "    },\n",
    "    {\n",
    "        \"clause_id\": \"LIAB-002\", \n",
    "        \"clause_type\": \"Liability\",\n",
    "        \"text\": \"Company's total liability under this agreement shall not exceed the total amount paid by Client in the twelve months preceding the claim. Company excludes all liability for consequential damages.\"\n",
    "    },\n",
    "    {\n",
    "        \"clause_id\": \"INDEM-003\", \n",
    "        \"clause_type\": \"Indemnification\",\n",
    "        \"text\": \"Company shall defend, indemnify and hold Client harmless against all claims, damages, costs and expenses arising from Company's breach of this agreement or negligent performance of services.\"\n",
    "    },\n",
    "    {\n",
    "        \"clause_id\": \"PAY-004\", \n",
    "        \"clause_type\": \"Payment\",\n",
    "        \"text\": \"Payment terms are Net 90 days from invoice date. Client may withhold payment for any disputed amounts until resolution. Late payments incur 1.5% monthly interest.\"\n",
    "    }\n",
    "])\n",
    "\n",
    "print(\"📄 Contract Clauses for Risk Analysis:\")\n",
    "contract_clauses.show()"
   ]
  },
  {
   "cell_type": "markdown",
   "metadata": {},
   "source": [
    "## ⚠️ Step 3: AI Risk Extraction\n",
    "\n",
    "Extract structured legal risks using AI that understands contract language:"
   ]
  },
  {
   "cell_type": "code",
   "execution_count": null,
   "metadata": {},
   "outputs": [],
   "source": [
    "# ⚖️ Extract legal risks from contract text\n",
    "risk_analysis = contract_clauses.select(\n",
    "    \"clause_id\",\n",
    "    \"clause_type\", \n",
    "    \"text\",\n",
    "    fc.semantic.extract(\n",
    "        \"text\",\n",
    "        ContractRisk,\n",
    "        model_alias=\"legal\"\n",
    "    ).alias(\"risk_analysis\")\n",
    ").cache()  # Cache legal analysis results\n",
    "\n",
    "# Extract structured fields for analysis\n",
    "risk_summary = risk_analysis.select(\n",
    "    \"clause_id\",\n",
    "    \"clause_type\",\n",
    "    risk_analysis.risk_analysis.risk_type.alias(\"risk_type\"),\n",
    "    risk_analysis.risk_analysis.severity.alias(\"severity\"),\n",
    "    risk_analysis.risk_analysis.affects_party.alias(\"affects_party\"),\n",
    "    risk_analysis.risk_analysis.description.alias(\"description\")\n",
    ")\n",
    "\n",
    "print(\"⚠️ CONTRACT RISK ANALYSIS:\")\n",
    "risk_summary.show()"
   ]
  },
  {
   "cell_type": "markdown",
   "metadata": {},
   "source": [
    "## 🔍 Step 4: Legal Risk Dashboard\n",
    "\n",
    "Summarize findings for legal teams with actionable insights:"
   ]
  },
  {
   "cell_type": "code",
   "execution_count": null,
   "metadata": {},
   "outputs": [],
   "source": [
    "# 📊 Legal risk dashboard analysis\n",
    "high_risk = risk_summary.filter(fc.col(\"severity\") >= 4).count()\n",
    "total_risks = risk_summary.count()\n",
    "critical_percentage = (high_risk / total_risks) * 100\n",
    "\n",
    "print(\"🔍 LEGAL RISK DASHBOARD:\")\n",
    "print(f\"   • Total clauses analyzed: {total_risks}\")\n",
    "print(f\"   • High-risk clauses (4-5): {high_risk} ({critical_percentage:.0f}%)\")\n",
    "\n",
    "# Show recommendations for high-risk items\n",
    "print(\"\\n⚠️ HIGH-RISK ITEMS:\")\n",
    "high_risk_details = risk_analysis.filter(\n",
    "    risk_analysis.risk_analysis.severity >= 4\n",
    ").select(\n",
    "    \"clause_type\",\n",
    "    risk_analysis.risk_analysis.recommendation.alias(\"recommendation\")\n",
    ")\n",
    "high_risk_details.show()\n",
    "\n",
    "print(\"\\n💼 BUSINESS IMPACT:\")\n",
    "print(\"   • Automated legal review reduces time from weeks to minutes\")\n",
    "print(\"   • Structured risk data enables consistent contract analysis\")\n",
    "print(\"   • AI flags issues human reviewers might miss\")\n",
    "print(\"   • Risk scoring helps prioritize negotiation efforts\")"
   ]
  },
  {
   "cell_type": "code",
   "execution_count": null,
   "metadata": {},
   "outputs": [],
   "source": [
    "session.stop()"
   ]
  }
 ],
 "metadata": {
  "kernelspec": {
   "display_name": "Python 3",
   "language": "python",
   "name": "python3"
  },
  "language_info": {
   "codemirror_mode": {
    "name": "ipython",
    "version": 3
   },
   "file_extension": ".py",
   "mimetype": "text/x-python",
   "name": "python",
   "nbconvert_exporter": "python",
   "pygments_lexer": "ipython3",
   "version": "3.8.5"
  }
 },
 "nbformat": 4,
 "nbformat_minor": 4
}
