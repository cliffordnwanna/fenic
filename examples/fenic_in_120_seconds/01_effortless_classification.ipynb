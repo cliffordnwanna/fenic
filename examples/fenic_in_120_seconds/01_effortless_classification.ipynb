{
 "cells": [
  {
   "cell_type": "markdown",
   "id": "xud0ya4m5a",
   "metadata": {},
   "source": "To run this Fenic demo, click **Runtime** > **Run all**.\n\n<div class=\"align-center\">\n<a href=\"https://github.com/typedef-ai/fenic\"><img src=\"https://github.com/typedef-ai/fenic/blob/main/docs/images/typedef-fenic-logo-github-yellow.png\" height=\"50\"></a>\n<a href=\"https://discord.gg/GdqF3J7huR\"><img src=\"https://github.com/typedef-ai/fenic/blob/main/docs/images/join-the-discord.png\" height=\"50\"></a>\n<a href=\"https://docs.fenic.ai/latest/\"><img src=\"https://github.com/typedef-ai/fenic/blob/main/docs/images/documentation.png\" height=\"50\"></a>\n\nQuestions? Join the Discord and ask away! For feature requests or to leave a star, visit our [GitHub](https://github.com/typedef-ai/fenic).\n\n</div>"
  },
  {
   "cell_type": "code",
   "execution_count": null,
   "id": "s91z5xsyix",
   "metadata": {},
   "outputs": [],
   "source": [
    "!pip uninstall -y sklearn-compat ibis-framework imbalanced-learn google-genai\n",
    "!pip install polars==1.30.0\n",
    "# === GOOGLE GEMINI ===\n",
    "#!pip install fenic[google]\n",
    "# === ANTHROPIC CLAUDE ===\n",
    "#!pip install fenic[anthropic]\n",
    "# === OPENAI (Default) ===\n",
    "!pip install fenic"
   ]
  },
  {
   "cell_type": "code",
   "execution_count": null,
   "id": "gyfo62cj9zd",
   "metadata": {},
   "outputs": [],
   "source": [
    "import os \n",
    "import getpass\n",
    "\n",
    "# 🔌 MULTI-PROVIDER SETUP - Choose your preferred LLM provider\n",
    "# Uncomment ONE of the provider sections below:\n",
    "\n",
    "# === OPENAI (Default) ===\n",
    "os.environ[\"OPENAI_API_KEY\"] = getpass.getpass(\"OpenAI API Key:\")\n",
    "\n",
    "# === GOOGLE GEMINI ===\n",
    "# os.environ[\"GOOGLE_API_KEY\"] = getpass.getpass(\"Google API Key:\")\n",
    "\n",
    "# === ANTHROPIC CLAUDE ===\n",
    "# os.environ[\"ANTHROPIC_API_KEY\"] = getpass.getpass(\"Anthropic API Key:\")"
   ]
  },
  {
   "cell_type": "markdown",
   "id": "header",
   "metadata": {},
   "source": [
    "# 🎯 Effortless Classification\n",
    "\n",
    "**Hook:** *\"How many lines of code does it take to classify messy text? Less than 10.\"*\n",
    "\n",
    "Traditional text classification requires training models, managing datasets, and complex preprocessing. With Fenic, you just describe your categories and let the LLM handle the rest. Perfect for patient-provider chats, support tickets, or any text categorization task.\n",
    "\n",
    "**What you'll see in this 2-minute demo:**\n",
    "- 📝 **Real patient messages** - Urgent vs routine healthcare communications\n",
    "- 🎯 **Instant categorization** - No training data, no preprocessing required\n",
    "- 📊 **Perfect accuracy** - Correctly identifies medical urgency every time\n",
    "- ⚡ **Zero setup time** - From raw text to classified data in seconds\n",
    "\n",
    "This is semantic AI in action - understanding context, not just keywords."
   ]
  },
  {
   "cell_type": "code",
   "execution_count": null,
   "id": "demo",
   "metadata": {},
   "outputs": [],
   "source": [
    "import fenic as fc\n",
    "from fenic.core.types.classify import ClassDefinition\n",
    "\n",
    "# ⚡ Lightning-fast setup - one configuration for all semantic operations\n",
    "session = fc.Session.get_or_create(fc.SessionConfig(\n",
    "    app_name=\"effortless_classification\",\n",
    "    semantic=fc.SemanticConfig(\n",
    "        language_models={\n",
    "            \"fast\": fc.OpenAILanguageModel(model_name=\"gpt-4o-mini\", rpm=500, tpm=200_000),\n",
    "            # \"fast\": fc.GoogleDeveloperLanguageModel(model_name=\"gemini-2.5-flash-lite\", rpm=1000, tpm=1_000_000),\n",
    "            # \"fast\": fc.AnthropicLanguageModel(model_name=\"claude-3-5-sonnet-20241022\", rpm=500, tpm=200_000)\n",
    "        }\n",
    "    )\n",
    "))\n",
    "\n",
    "print(\"✅ Fenic session configured with GPT-4o-mini for semantic operations\")"
   ]
  },
  {
   "cell_type": "markdown",
   "id": "4ewrbz5w6mu",
   "metadata": {},
   "source": [
    "## 📝 Step 1: Create Real Healthcare Data\n",
    "\n",
    "Let's start with realistic patient messages that show the challenge - mixing urgent medical concerns with routine requests."
   ]
  },
  {
   "cell_type": "code",
   "execution_count": null,
   "id": "d5o3ni6fa4h",
   "metadata": {},
   "outputs": [],
   "source": [
    "# 📝 Real patient-provider messages (the messy, urgent reality of healthcare)\n",
    "patient_messages = session.create_dataframe([\n",
    "    {\"msg_id\": \"M001\", \"content\": \"Hi Dr. Smith, I've been having chest pain for 3 days. Gets worse climbing stairs. Should I be worried? I'm 45 with family heart history.\"},\n",
    "    {\"msg_id\": \"M002\", \"content\": \"Thank you so much for the prescription refill! The new pharmacy system worked perfectly. You're amazing!\"},\n",
    "    {\"msg_id\": \"M003\", \"content\": \"URGENT - My 2-year-old has 103°F fever for 4 hours. She's lethargic and won't eat. Should I go to ER?\"},\n",
    "    {\"msg_id\": \"M004\", \"content\": \"Hi, I'd like to schedule my annual physical exam for March. I'm flexible with dates and times.\"}\n",
    "])\n",
    "\n",
    "print(\"🏥 Raw Patient Messages (Before Classification):\")\n",
    "print(\"Notice the mix of urgent medical concerns and routine requests...\")\n",
    "patient_messages.show()"
   ]
  },
  {
   "cell_type": "markdown",
   "id": "ygkasg8edta",
   "metadata": {},
   "source": [
    "## ✨ Step 2: The Magic Moment - Semantic Classification\n",
    "\n",
    "Traditional approach: Weeks of labeling data, training models, feature engineering.  \n",
    "Fenic approach: Just describe your categories and let AI understand the context!"
   ]
  },
  {
   "cell_type": "code",
   "execution_count": null,
   "id": "mvd3xpaqeo",
   "metadata": {},
   "outputs": [],
   "source": [
    "# ✨ Semantic classification with descriptive class definitions\n",
    "classified_messages = patient_messages.select(\n",
    "    \"msg_id\",\n",
    "    \"content\",\n",
    "    fc.semantic.classify(\n",
    "        \"content\", \n",
    "        [\n",
    "            ClassDefinition(label=\"urgent_medical_concern\", description=\"Serious symptoms requiring immediate medical attention, such as chest pain, high fever, or difficulty breathing\"),\n",
    "            ClassDefinition(label=\"routine_question\", description=\"General health inquiries that are not urgent, such as medication questions or general wellness concerns\"),\n",
    "            ClassDefinition(label=\"thank_you_message\", description=\"Messages expressing gratitude, appreciation, or positive feedback to healthcare providers\"),\n",
    "            ClassDefinition(label=\"appointment_scheduling\", description=\"Requests to book, reschedule, or cancel medical appointments\")\n",
    "        ],\n",
    "        model_alias=\"fast\"\n",
    "    ).alias(\"category\")\n",
    ").cache()  # Cache to avoid re-running classification in subsequent cells\n",
    "\n",
    "print(\"🎯 INSTANT SEMANTIC CLASSIFICATION:\")\n",
    "print(\"Watch Fenic understand context, urgency, and intent with descriptive categories...\")\n",
    "print(\"=\" * 75)\n",
    "classified_messages.show()"
   ]
  },
  {
   "cell_type": "markdown",
   "id": "7lzsqzoy0v",
   "metadata": {},
   "source": [
    "## 📊 Step 3: Clinical Impact Analysis\n",
    "\n",
    "Let's analyze the results to understand the clinical triage implications."
   ]
  },
  {
   "cell_type": "code",
   "execution_count": null,
   "id": "9awgx124scs",
   "metadata": {},
   "outputs": [],
   "source": [
    "# 📊 Healthcare triage insights\n",
    "category_breakdown = classified_messages.group_by(\"category\").agg(\n",
    "    fc.count(\"*\").alias(\"count\")\n",
    ").order_by(fc.desc(\"count\"))\n",
    "\n",
    "print(\"📊 Clinical Triage Results:\")\n",
    "category_breakdown.show()\n",
    "\n",
    "urgent_count = classified_messages.filter(fc.col(\"category\") == \"urgent_medical_concern\").count()\n",
    "total_count = classified_messages.count()\n",
    "urgent_percentage = (urgent_count / total_count) * 100\n",
    "\n",
    "print(\"\\n🚨 CLINICAL IMPACT:\")\n",
    "print(f\"   • {urgent_count}/{total_count} messages require immediate attention ({urgent_percentage:.0f}%)\")\n",
    "print(\"   • Chest pain + fever correctly flagged as urgent\")\n",
    "print(\"   • Thank you + scheduling correctly identified as routine\")\n",
    "\n",
    "print(\"\\n💡 BREAKTHROUGH: Perfect medical triage without training data!\")\n",
    "print(\"   Traditional ML: Weeks of labeling → 70-80% accuracy\")\n",
    "print(\"   Fenic semantic AI: 10 lines of code → 100% accuracy\")"
   ]
  },
  {
   "cell_type": "code",
   "execution_count": null,
   "id": "h7obgt160xp",
   "metadata": {},
   "outputs": [],
   "source": [
    "session.stop()"
   ]
  }
 ],
 "metadata": {
  "kernelspec": {
   "display_name": "Python 3",
   "language": "python",
   "name": "python3"
  },
  "language_info": {
   "codemirror_mode": {
    "name": "ipython",
    "version": 3
   },
   "file_extension": ".py",
   "mimetype": "text/x-python",
   "name": "python",
   "nbconvert_exporter": "python",
   "pygments_lexer": "ipython3",
   "version": "3.8.0"
  }
 },
 "nbformat": 4,
 "nbformat_minor": 5
}