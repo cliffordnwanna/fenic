{
 "cells": [
  {
   "cell_type": "markdown",
   "source": "To run this Fenic demo, click **Runtime** > **Run all**.\n\n<div class=\"align-center\">\n<a href=\"https://github.com/typedef-ai/fenic\"><img src=\"https://github.com/typedef-ai/fenic/blob/main/docs/images/typedef-fenic-logo-github-yellow.png\" height=\"50\"></a>\n<a href=\"https://discord.gg/GdqF3J7huR\"><img src=\"https://github.com/typedef-ai/fenic/blob/main/docs/images/join-the-discord.png\" height=\"50\"></a>\n<a href=\"https://docs.fenic.ai/latest/\"><img src=\"https://github.com/typedef-ai/fenic/blob/main/docs/images/documentation.png\" height=\"50\"></a>\n\nQuestions? Join the Discord and ask away! For feature requests or to leave a star, visit our [GitHub](https://github.com/typedef-ai/fenic).\n\n</div>",
   "metadata": {}
  },
  {
   "cell_type": "code",
   "execution_count": null,
   "metadata": {},
   "outputs": [],
   "source": [
    "!pip uninstall -y sklearn-compat ibis-framework imbalanced-learn google-genai\n",
    "!pip install polars==1.30.0\n",
    "# === GOOGLE GEMINI ===\n",
    "#!pip install fenic[google]\n",
    "# === ANTHROPIC CLAUDE ===\n",
    "#!pip install fenic[anthropic]\n",
    "# === OPENAI (Default) ===\n",
    "!pip install fenic"
   ]
  },
  {
   "cell_type": "code",
   "execution_count": null,
   "metadata": {},
   "outputs": [],
   "source": [
    "import os \n",
    "import getpass\n",
    "\n",
    "# 🔌 MULTI-PROVIDER SETUP - Choose your preferred LLM provider\n",
    "# Uncomment ONE of the provider sections below:\n",
    "\n",
    "# === OPENAI (Default) ===\n",
    "os.environ[\"OPENAI_API_KEY\"] = getpass.getpass(\"OpenAI API Key:\")\n",
    "\n",
    "# === GOOGLE GEMINI ===\n",
    "# os.environ[\"GOOGLE_API_KEY\"] = getpass.getpass(\"Google API Key:\")\n",
    "\n",
    "# === ANTHROPIC CLAUDE ===\n",
    "# os.environ[\"ANTHROPIC_API_KEY\"] = getpass.getpass(\"Anthropic API Key:\")"
   ]
  },
  {
   "cell_type": "markdown",
   "metadata": {},
   "source": [
    "# 🔍 Smart Filtering\n",
    "\n",
    "**Hook:** *\"Filter data by meaning, not just exact matches\"*\n",
    "\n",
    "Traditional filters need exact conditions - \"status = 'urgent'\" or \"category = 'bug'\". But what about \"sounds frustrated\" or \"seems like a feature request\"? Smart filtering uses AI to understand context and intent, finding records that match semantic criteria impossible with SQL.\n",
    "\n",
    "**What you'll see in this 2-minute demo:**\n",
    "- 📝 **Customer feedback data** - Mixed complaints, requests, and praise\n",
    "- 🧠 **Semantic filters** - \"Find angry customers\" or \"show feature requests\"\n",
    "- 🎯 **Context understanding** - AI reads between the lines\n",
    "- 📊 **Actionable insights** - Route issues to the right teams\n",
    "\n",
    "Perfect for customer support, content moderation, and data triage workflows."
   ]
  },
  {
   "cell_type": "code",
   "execution_count": null,
   "metadata": {},
   "outputs": [],
   "source": [
    "import fenic as fc\n",
    "\n",
    "# ⚡ Configure for smart filtering\n",
    "session = fc.Session.get_or_create(fc.SessionConfig(\n",
    "    app_name=\"smart_filtering_demo\",\n",
    "    semantic=fc.SemanticConfig(\n",
    "        language_models={\n",
    "            \"filter\": fc.OpenAILanguageModel(model_name=\"gpt-4o-mini\", rpm=500, tpm=200_000),\n",
    "            # \"filter\": fc.GoogleDeveloperLanguageModel(model_name=\"gemini-2.5-flash-lite\", rpm=1000, tpm=1_000_000),\n",
    "            # \"filter\": fc.AnthropicLanguageModel(model_name=\"claude-3-5-sonnet-20241022\", rpm=500, tpm=200_000)\n",
    "        }\n",
    "    )\n",
    "))\n",
    "\n",
    "print(\"✅ Smart filtering session configured\")"
   ]
  },
  {
   "cell_type": "markdown",
   "metadata": {},
   "source": [
    "## 📝 Step 1: Mixed Customer Feedback\n",
    "\n",
    "Real customer messages that are hard to categorize with traditional filters:"
   ]
  },
  {
   "cell_type": "code",
   "execution_count": null,
   "metadata": {},
   "outputs": [],
   "source": [
    "# 📝 Customer feedback with mixed sentiments and intents\n",
    "feedback = session.create_dataframe([\n",
    "    {\"id\": \"FB001\", \"customer\": \"Sarah M.\", \"message\": \"This app crashes every time I try to export data. I've lost hours of work! This is completely unacceptable.\", \"rating\": 1},\n",
    "    {\"id\": \"FB002\", \"customer\": \"Mike R.\", \"message\": \"Love the new dashboard! Would be amazing if you could add a dark mode option though.\", \"rating\": 4},\n",
    "    {\"id\": \"FB003\", \"customer\": \"Jessica L.\", \"message\": \"The customer support team was incredibly helpful. They resolved my billing issue in minutes.\", \"rating\": 5},\n",
    "    {\"id\": \"FB004\", \"customer\": \"Tom H.\", \"message\": \"Why can't I filter by multiple categories? Every other tool has this basic feature. Very frustrating.\", \"rating\": 2},\n",
    "    {\"id\": \"FB005\", \"customer\": \"Lisa K.\", \"message\": \"Great product overall! Could you add integration with Slack? That would make my workflow perfect.\", \"rating\": 4},\n",
    "    {\"id\": \"FB006\", \"customer\": \"David P.\", \"message\": \"Been using this for 3 years. Solid, reliable, does exactly what I need. No complaints here.\", \"rating\": 5},\n",
    "    {\"id\": \"FB007\", \"customer\": \"Emma S.\", \"message\": \"The recent update broke my saved reports. Now I have to recreate everything from scratch. Terrible.\", \"rating\": 1},\n",
    "    {\"id\": \"FB008\", \"customer\": \"Alex C.\", \"message\": \"Interface is clean and intuitive. Maybe add some advanced analytics features for power users?\", \"rating\": 4}\n",
    "])\n",
    "\n",
    "print(\"📝 Customer Feedback - Mixed sentiments and requests:\")\n",
    "feedback.show()"
   ]
  },
  {
   "cell_type": "markdown",
   "metadata": {},
   "source": [
    "## 🔍 Step 2: Smart Filter - Find Frustrated Customers\n",
    "\n",
    "Use AI to identify customers who sound frustrated, regardless of their exact words:"
   ]
  },
  {
   "cell_type": "code",
   "execution_count": null,
   "metadata": {},
   "outputs": [],
   "source": [
    "# 🔍 Smart filter: Find frustrated customers (AI understands tone and context)\n",
    "frustrated_customers = feedback.filter(\n",
    "    fc.semantic.predicate(\n",
    "        \"Customer message: {{ message }}\\nThis customer sounds frustrated, angry, or upset about a problem or issue with the product\",\n",
    "        message=fc.col(\"message\"),\n",
    "        model_alias=\"filter\"\n",
    "    )\n",
    ").cache()\n",
    "\n",
    "print(\"😤 FRUSTRATED CUSTOMERS IDENTIFIED:\")\n",
    "frustrated_result = frustrated_customers.select(\"customer\", \"message\", \"rating\")\n",
    "frustrated_result.show()\n",
    "\n",
    "frustrated_count = frustrated_customers.count()\n",
    "print(f\"\\n📊 Found {frustrated_count} frustrated customers out of {feedback.count()} total feedback\")"
   ]
  },
  {
   "cell_type": "markdown",
   "metadata": {},
   "source": [
    "## 💡 Step 3: Smart Filter - Feature Requests\n",
    "\n",
    "Identify feature requests and suggestions, even when phrased as compliments:"
   ]
  },
  {
   "cell_type": "code",
   "execution_count": null,
   "metadata": {},
   "outputs": [],
   "source": [
    "# 💡 Smart filter: Find feature requests (AI detects suggestions and wishes)\n",
    "feature_requests = feedback.filter(\n",
    "    fc.semantic.predicate(\n",
    "        \"Customer message: {{ message }}\\nThis message contains a feature request, suggestion, or wish for new functionality\",\n",
    "        message=fc.col(\"message\"),\n",
    "        model_alias=\"filter\"\n",
    "    )\n",
    ").cache()\n",
    "\n",
    "print(\"💡 FEATURE REQUESTS DETECTED:\")\n",
    "feature_result = feature_requests.select(\"customer\", \"message\", \"rating\")\n",
    "feature_result.show()\n",
    "\n",
    "feature_count = feature_requests.count()\n",
    "print(f\"\\n📊 Found {feature_count} feature requests hidden in feedback\")"
   ]
  },
  {
   "cell_type": "markdown",
   "metadata": {},
   "source": [
    "## 🌟 Step 4: Smart Filter - Praise and Loyalty\n",
    "\n",
    "Find customers expressing genuine satisfaction and loyalty:"
   ]
  },
  {
   "cell_type": "code",
   "execution_count": null,
   "metadata": {},
   "outputs": [],
   "source": [
    "# 🌟 Smart filter: Find loyal, satisfied customers\n",
    "loyal_customers = feedback.filter(\n",
    "    fc.semantic.predicate(\n",
    "        \"Customer message: {{ message }}\\nThis customer expresses genuine satisfaction, loyalty, or praise for the product or service\",\n",
    "        message=fc.col(\"message\"),\n",
    "        model_alias=\"filter\"\n",
    "    )\n",
    ").cache()\n",
    "\n",
    "print(\"🌟 LOYAL CUSTOMERS IDENTIFIED:\")\n",
    "loyal_result = loyal_customers.select(\"customer\", \"message\", \"rating\")\n",
    "loyal_result.show()\n",
    "\n",
    "loyal_count = loyal_customers.count()\n",
    "print(f\"\\n📊 Found {loyal_count} genuinely satisfied customers\")\n",
    "\n",
    "print(\"\\n🎯 SMART FILTERING RESULTS:\")\n",
    "print(f\"   • Frustrated customers: {frustrated_count} (need immediate attention)\")\n",
    "print(f\"   • Feature requests: {feature_count} (product development insights)\")\n",
    "print(f\"   • Loyal customers: {loyal_count} (potential testimonials/case studies)\")\n",
    "\n",
    "print(\"\\n💡 BUSINESS BENEFITS:\")\n",
    "print(\"   • Automatic issue triage based on emotional tone\")\n",
    "print(\"   • Hidden feature requests discovered in positive feedback\")\n",
    "print(\"   • Loyal customers identified for retention programs\")\n",
    "print(\"   • Context-aware filtering beyond keyword matching\")"
   ]
  },
  {
   "cell_type": "code",
   "execution_count": null,
   "metadata": {},
   "outputs": [],
   "source": [
    "session.stop()"
   ]
  }
 ],
 "metadata": {
  "kernelspec": {
   "display_name": "Python 3",
   "language": "python",
   "name": "python3"
  },
  "language_info": {
   "codemirror_mode": {
    "name": "ipython",
    "version": 3
   },
   "file_extension": ".py",
   "mimetype": "text/x-python",
   "name": "python",
   "nbconvert_exporter": "python",
   "pygments_lexer": "ipython3",
   "version": "3.8.5"
  }
 },
 "nbformat": 4,
 "nbformat_minor": 4
}