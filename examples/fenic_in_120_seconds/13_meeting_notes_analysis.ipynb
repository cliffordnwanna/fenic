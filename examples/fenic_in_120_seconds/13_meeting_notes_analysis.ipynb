{
 "cells": [
  {
   "cell_type": "markdown",
   "metadata": {},
   "source": [
    "To run this Fenic demo, click **Runtime** > **Run all**.\n",
    "\n",
    "<div class=\"align-center\">\n",
    "<a href=\"https://github.com/typedef-ai/fenic\"><img src=\"https://github.com/typedef-ai/fenic/blob/main/docs/images/typedef-fenic-logo-github-yellow.png\" height=\"50\"></a>\n",
    "<a href=\"https://discord.gg/GdqF3J7huR\"><img src=\"https://github.com/typedef-ai/fenic/blob/main/docs/images/join-the-discord.png\" height=\"50\"></a>\n",
    "<a href=\"https://docs.fenic.ai/latest/\"><img src=\"https://github.com/typedef-ai/fenic/blob/main/docs/images/documentation.png\" height=\"50\"></a>\n",
    "\n",
    "Questions? Join the Discord and ask away! For feature requests or to leave a star, visit our [GitHub](https://github.com/typedef-ai/fenic).\n",
    "\n",
    "</div>"
   ]
  },
  {
   "cell_type": "code",
   "execution_count": null,
   "metadata": {},
   "outputs": [],
   "source": [
    "!pip uninstall -y sklearn-compat ibis-framework imbalanced-learn google-genai\n",
    "!pip install polars==1.30.0\n",
    "# === GOOGLE GEMINI ===\n",
    "#!pip install fenic[google]\n",
    "# === ANTHROPIC CLAUDE ===\n",
    "#!pip install fenic[anthropic]\n",
    "# === OPENAI (Default) ===\n",
    "!pip install fenic"
   ]
  },
  {
   "cell_type": "code",
   "execution_count": null,
   "metadata": {},
   "outputs": [],
   "source": [
    "import os \n",
    "import getpass\n",
    "\n",
    "# 🔌 MULTI-PROVIDER SETUP - Choose your preferred LLM provider\n",
    "# Uncomment ONE of the provider sections below:\n",
    "\n",
    "# === OPENAI (Default) ===\n",
    "os.environ[\"OPENAI_API_KEY\"] = getpass.getpass(\"OpenAI API Key:\")\n",
    "\n",
    "# === GOOGLE GEMINI ===\n",
    "# os.environ[\"GOOGLE_API_KEY\"] = getpass.getpass(\"Google API Key:\")\n",
    "\n",
    "# === ANTHROPIC CLAUDE ===\n",
    "# os.environ[\"ANTHROPIC_API_KEY\"] = getpass.getpass(\"Anthropic API Key:\")"
   ]
  },
  {
   "cell_type": "markdown",
   "metadata": {},
   "source": [
    "# 🎤 Meeting Notes Analysis\n",
    "\n",
    "**Hook:** *\"Transform messy meeting transcripts into structured action plans\"*\n",
    "\n",
    "Meeting notes are often scattered, incomplete, and hard to follow up on. \"Sarah mentioned something about the deadline... Mike had concerns about budget...\" Sound familiar? Watch AI turn rambling meeting transcripts into organized insights with clear owners and deadlines.\n",
    "\n",
    "**What you'll see in this 2-minute demo:**\n",
    "- 🎙️ **Raw meeting transcripts** - Unstructured conversation flows\n",
    "- 📋 **Action item extraction** - Who does what, by when\n",
    "- 🎯 **Decision tracking** - Key conclusions and commitments\n",
    "- 📊 **Meeting insights** - Participation, sentiment, follow-ups\n",
    "\n",
    "Perfect for project management, executive assistance, and team productivity."
   ]
  },
  {
   "cell_type": "code",
   "execution_count": null,
   "metadata": {},
   "outputs": [],
   "source": [
    "import fenic as fc\n",
    "from pydantic import BaseModel, Field\n",
    "from typing import List, Literal\n",
    "\n",
    "# ⚡ Configure for meeting analysis\n",
    "session = fc.Session.get_or_create(fc.SessionConfig(\n",
    "    app_name=\"meeting_notes_demo\",\n",
    "    semantic=fc.SemanticConfig(\n",
    "        language_models={\n",
    "            \"meeting_ai\": fc.OpenAILanguageModel(model_name=\"gpt-4o-mini\", rpm=500, tpm=200_000),\n",
    "            # \"meeting_ai\": fc.GoogleDeveloperLanguageModel(model_name=\"gemini-2.5-flash-lite\", rpm=1000, tpm=1_000_000),\n",
    "            # \"meeting_ai\": fc.AnthropicLanguageModel(model_name=\"claude-3-5-sonnet-20241022\", rpm=500, tpm=200_000)\n",
    "        }\n",
    "    )\n",
    "))\n",
    "\n",
    "print(\"✅ Meeting notes analysis session configured\")"
   ]
  },
  {
   "cell_type": "markdown",
   "metadata": {},
   "source": [
    "## 📋 Step 1: Meeting Analysis Schema\n",
    "\n",
    "Define the structured insights we want to extract from meeting transcripts:"
   ]
  },
  {
   "cell_type": "code",
   "execution_count": null,
   "metadata": {},
   "outputs": [],
   "source": [
    "# 📊 Meeting insights extraction schema\n",
    "class ActionItem(BaseModel):\n",
    "    task: str = Field(description=\"Description of the task to be completed\")\n",
    "    owner: str = Field(description=\"Person responsible for completing the task\")\n",
    "    deadline: str = Field(description=\"When the task should be completed\")\n",
    "\n",
    "class MeetingInsights(BaseModel):\n",
    "    meeting_type: Literal[\"standup\", \"planning\", \"review\", \"decision\", \"brainstorm\", \"budget\", \"quarterly_review\"] = Field(description=\"Type of meeting\")\n",
    "    key_decisions: List[str] = Field(description=\"Important decisions made during the meeting\")\n",
    "    action_items: List[ActionItem] = Field(description=\"Tasks with owner and deadline\")\n",
    "    unresolved_issues: List[str] = Field(description=\"Open questions or concerns raised\")\n",
    "    participants_mentioned: List[str] = Field(description=\"Names of people mentioned or present\")\n",
    "    next_meeting_needed: bool = Field(description=\"Whether follow-up meeting is required\")\n",
    "    meeting_sentiment: Literal[\"positive\", \"neutral\", \"tense\", \"productive\", \"concerning\"] = Field(description=\"Overall tone of the meeting\")\n",
    "    executive_summary: str = Field(description=\"One-sentence meeting outcome summary\")\n",
    "\n",
    "print(\"📊 Meeting Analysis Schema:\")\n",
    "print(\"   • meeting_type: Automatic meeting classification\")\n",
    "print(\"   • key_decisions: Important conclusions reached\")\n",
    "print(\"   • action_items: Tasks with owners and deadlines\")\n",
    "print(\"   • unresolved_issues: Open questions for follow-up\")\n",
    "print(\"   • participants_mentioned: Attendee identification\")\n",
    "print(\"   • next_meeting_needed: Follow-up meeting flag\")\n",
    "print(\"   • meeting_sentiment: Tone and mood analysis\")\n",
    "print(\"   • executive_summary: Brief outcome description\")"
   ]
  },
  {
   "cell_type": "markdown",
   "metadata": {},
   "source": [
    "## 🎙️ Step 2: Raw Meeting Transcripts\n",
    "\n",
    "Realistic meeting transcripts with action items buried in conversation:"
   ]
  },
  {
   "cell_type": "code",
   "execution_count": null,
   "metadata": {},
   "outputs": [],
   "source": [
    "# 🎙️ Meeting transcripts with embedded action items and decisions\n",
    "meeting_transcripts = session.create_dataframe([\n",
    "    {\n",
    "        \"meeting_id\": \"MTG001\",\n",
    "        \"meeting_title\": \"Q1 Product Launch Planning\",\n",
    "        \"date\": \"2024-01-22\",\n",
    "        \"transcript\": \"\"\"Sarah: Thanks everyone for joining. Let's discuss the Q1 product launch timeline. Mike, where are we with the API documentation? Mike: About 70% complete. I need another week to finish the authentication section. Sarah: Okay, so target completion by January 29th? Mike: Yes, that works. Lisa: I have concerns about the mobile app testing. We've only tested on iOS 16+, but our user base includes iOS 15 users. Should we expand testing? Sarah: Good point. Lisa, can you coordinate with QA to include iOS 15 testing by February 5th? Lisa: Sure, I'll reach out to Jennifer today. Tom: What about the marketing campaign? We need final product screenshots for the landing page. Sarah: Mike, once API docs are done, can you provide test data for Tom's screenshots? Mike: Absolutely. I'll have sample API responses ready by February 1st. Sarah: Perfect. Any other blockers? Lisa: Just the iOS testing concern, but that's covered now. Sarah: Great, let's reconvene next Tuesday to check progress.\"\"\"\n",
    "    },\n",
    "    {\n",
    "        \"meeting_id\": \"MTG002\", \n",
    "        \"meeting_title\": \"Budget Review - Engineering Team\",\n",
    "        \"date\": \"2024-01-18\",\n",
    "        \"transcript\": \"\"\"David: We're here to review Q1 engineering budget. Current burn rate is higher than projected. We're at $180K monthly vs budgeted $150K. Emily: The AWS costs are the main issue. Our new ML models are expensive to run. David: How much can we optimize? Emily: I estimate 30-40% savings with better instance management. I need two weeks to implement auto-scaling. David: That's priority one. Emily, please have a cost optimization plan by February 2nd. Also, we need to delay the new feature development until costs are under control. Mark: What about the hiring plans? We have three open engineering positions. David: Let's pause hiring until we see the cost improvements. Mark, can you put those requisitions on hold? Mark: I already sent offers to two candidates. David: Let's honor those offers but pause the third position. This is tough but necessary. Emily: I understand the pressure. The optimization work is my top priority. David: Thanks everyone. This isn't ideal but we'll get through it. Let's meet again in two weeks to review progress.\"\"\"\n",
    "    },\n",
    "    {\n",
    "        \"meeting_id\": \"MTG003\",\n",
    "        \"meeting_title\": \"Customer Success Team Standup\", \n",
    "        \"date\": \"2024-01-19\",\n",
    "        \"transcript\": \"\"\"Anna: Good morning team. Let's go around for updates. Jessica, how are the enterprise onboardings going? Jessica: Really well! TechFlow Inc. is live and loving the analytics dashboard. GlobalCorp starts Monday. I do need help with their custom integration though. Anna: What kind of help? Jessica: They need a custom webhook for their CRM. It's beyond my technical scope. Anna: Let me connect you with the engineering team. I'll set up a meeting with Mike for next Wednesday. Rachel: I have an update on the customer satisfaction survey. Response rate is only 12%, way below our 25% target. Anna: Hmm, that's concerning. What do you think is causing the low response? Rachel: The survey is too long - 15 questions. Customers are abandoning it. Anna: Good insight. Rachel, can you create a shorter version with just 5 key questions by end of week? Rachel: Definitely. I'll focus on the most important metrics. Jessica: Also, GlobalCorp mentioned they'd be interested in our premium support tier. Anna: Excellent! Jessica, follow up with them about pricing after their integration is complete. Rachel: Should we track these premium support inquiries somewhere? Anna: Yes, add it to our CRM pipeline. Meeting same time Monday, everyone.\"\"\"\n",
    "    },\n",
    "    {\n",
    "        \"meeting_id\": \"MTG004\",\n",
    "        \"meeting_title\": \"Quarterly Review - Executive Team\",\n",
    "        \"date\": \"2024-01-25\", \n",
    "        \"transcript\": \"\"\"CEO Sarah: Thank you all for a solid Q4. Revenue hit $2.1M, 15% above target. CFO Michael: The growth is encouraging but we need to watch cash flow. Current runway is 14 months at this burn rate. CTO Lisa: Engineering team delivered all major features on time. The new AI capabilities are getting great customer feedback. CEO Sarah: Lisa, what's our technical debt situation? CTO Lisa: Manageable but growing. I recommend dedicating one engineer full-time to refactoring in Q2. CFO Michael: What's the cost impact? CTO Lisa: About $120K in salary costs, but it'll prevent much larger problems later. CEO Sarah: Approved. Lisa, identify the engineer and start in April. VP Sales Tom: Pipeline looks strong for Q1. We have $800K in qualified opportunities. CEO Sarah: Tom, what's your confidence on closing rate? VP Sales Tom: 65% based on current conversations. One concern - two major prospects asked about SOC2 compliance. CEO Sarah: We need to prioritize that. Michael, can you research SOC2 compliance costs? CFO Michael: I'll get quotes from auditors and have recommendations by February 15th. CEO Sarah: Perfect. Any other strategic issues? CTO Lisa: We should consider expanding to European markets, but GDPR compliance is complex. CEO Sarah: Let's table that for Q2 planning. Good meeting everyone.\"\"\"\n",
    "    }\n",
    "])\n",
    "\n",
    "print(\"🎙️ Meeting Transcripts - Notice the buried action items and decisions:\")\n",
    "meeting_transcripts.select(\"meeting_id\", \"meeting_title\", \"date\").show()"
   ]
  },
  {
   "cell_type": "markdown",
   "metadata": {},
   "source": [
    "## 🧠 Step 3: Intelligent Meeting Analysis\n",
    "\n",
    "Extract structured insights from conversational meeting transcripts:"
   ]
  },
  {
   "cell_type": "code",
   "execution_count": null,
   "metadata": {},
   "outputs": [],
   "source": [
    "# 🧠 Extract meeting insights from transcripts\n",
    "meeting_analysis = meeting_transcripts.select(\n",
    "    \"meeting_id\",\n",
    "    \"meeting_title\", \n",
    "    \"date\",\n",
    "    fc.semantic.extract(\n",
    "        \"transcript\",\n",
    "        MeetingInsights,\n",
    "        model_alias=\"meeting_ai\"\n",
    "    ).alias(\"insights\")\n",
    ").cache()\n",
    "\n",
    "# Show meeting types and sentiment analysis\n",
    "meeting_overview = meeting_analysis.select(\n",
    "    \"meeting_id\",\n",
    "    \"meeting_title\",\n",
    "    meeting_analysis.insights.meeting_type.alias(\"type\"),\n",
    "    meeting_analysis.insights.meeting_sentiment.alias(\"sentiment\"),\n",
    "    meeting_analysis.insights.executive_summary.alias(\"summary\")\n",
    ")\n",
    "\n",
    "print(\"🧠 MEETING ANALYSIS OVERVIEW:\")\n",
    "meeting_overview.show()"
   ]
  },
  {
   "cell_type": "markdown",
   "metadata": {},
   "source": [
    "## 📋 Step 4: Action Item Extraction\n",
    "\n",
    "Extract actionable tasks with owners and deadlines from meeting conversations:"
   ]
  },
  {
   "cell_type": "code",
   "execution_count": null,
   "metadata": {},
   "outputs": [],
   "source": [
    "# 📋 Extract action items and decisions\n",
    "action_tracking = meeting_analysis.select(\n",
    "    \"meeting_id\",\n",
    "    \"meeting_title\",\n",
    "    meeting_analysis.insights.action_items.alias(\"action_items\"),\n",
    "    meeting_analysis.insights.key_decisions.alias(\"decisions\"),\n",
    "    meeting_analysis.insights.unresolved_issues.alias(\"open_issues\"),\n",
    "    meeting_analysis.insights.next_meeting_needed.alias(\"followup_needed\")\n",
    ")\n",
    "\n",
    "print(\"📋 ACTION ITEMS AND DECISIONS:\")\n",
    "action_tracking.show()\n",
    "\n",
    "# Meeting productivity analysis\n",
    "total_meetings = meeting_transcripts.count()\n",
    "productive_meetings = meeting_analysis.filter(\n",
    "    meeting_analysis.insights.meeting_sentiment.is_in([\"positive\", \"productive\"])\n",
    ").count()\n",
    "followup_needed = meeting_analysis.filter(meeting_analysis.insights.next_meeting_needed).count()\n",
    "\n",
    "print(\"\\n📊 MEETING PRODUCTIVITY INSIGHTS:\")\n",
    "print(f\"   • Total meetings analyzed: {total_meetings}\")\n",
    "print(f\"   • Productive/positive meetings: {productive_meetings} ({productive_meetings/total_meetings*100:.0f}%)\")\n",
    "print(f\"   • Meetings requiring follow-up: {followup_needed}\")\n",
    "\n",
    "print(\"\\n🎯 BUSINESS BENEFITS:\")\n",
    "print(\"   • Automatic action item extraction with owners and deadlines\")\n",
    "print(\"   • Decision tracking prevents 'what did we decide?' confusion\")\n",
    "print(\"   • Sentiment analysis identifies team dynamics issues\")\n",
    "print(\"   • Follow-up meeting identification improves project continuity\")\n",
    "print(\"   • Participant mentions enable better communication planning\")\n",
    "print(\"   • Unresolved issues tracking prevents items from falling through cracks\")"
   ]
  },
  {
   "cell_type": "code",
   "execution_count": null,
   "metadata": {},
   "outputs": [],
   "source": [
    "session.stop()"
   ]
  }
 ],
 "metadata": {
  "kernelspec": {
   "display_name": "Python 3",
   "language": "python",
   "name": "python3"
  },
  "language_info": {
   "codemirror_mode": {
    "name": "ipython",
    "version": 3
   },
   "file_extension": ".py",
   "mimetype": "text/x-python",
   "name": "python",
   "nbconvert_exporter": "python",
   "pygments_lexer": "ipython3",
   "version": "3.8.5"
  }
 },
 "nbformat": 4,
 "nbformat_minor": 4
}
