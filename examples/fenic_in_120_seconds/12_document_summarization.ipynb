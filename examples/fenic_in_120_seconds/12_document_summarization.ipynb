{
 "cells": [
  {
   "cell_type": "markdown",
   "metadata": {},
   "source": [
    "To run this Fenic demo, click **Runtime** > **Run all**.\n",
    "\n",
    "<div class=\"align-center\">\n",
    "<a href=\"https://github.com/typedef-ai/fenic\"><img src=\"https://github.com/typedef-ai/fenic/blob/main/docs/images/typedef-fenic-logo-github-yellow.png?raw=true\" height=\"50\"></a>\n",
    "<a href=\"https://discord.gg/GdqF3J7huR\"><img src=\"https://github.com/typedef-ai/fenic/blob/main/docs/images/join-the-discord.png?raw=true\" height=\"50\"></a>\n",
    "<a href=\"https://docs.fenic.ai/latest/\"><img src=\"https://github.com/typedef-ai/fenic/blob/main/docs/images/documentation.png?raw=true\" height=\"50\"></a>\n",
    "\n",
    "Questions? Join the Discord and ask away! For feature requests or to leave a star, visit our [GitHub](https://github.com/typedef-ai/fenic).\n",
    "\n",
    "</div>"
   ]
  },
  {
   "cell_type": "code",
   "execution_count": null,
   "metadata": {},
   "outputs": [],
   "source": [
    "!pip uninstall -y sklearn-compat ibis-framework imbalanced-learn google-genai\n",
    "!pip install polars==1.30.0\n",
    "# === GOOGLE GEMINI ===\n",
    "#!pip install fenic[google]\n",
    "# === ANTHROPIC CLAUDE ===\n",
    "#!pip install fenic[anthropic]\n",
    "# === OPENAI (Default) ===\n",
    "!pip install fenic"
   ]
  },
  {
   "cell_type": "code",
   "execution_count": null,
   "metadata": {},
   "outputs": [],
   "source": [
    "import os \n",
    "import getpass\n",
    "\n",
    "# 🔌 MULTI-PROVIDER SETUP - Choose your preferred LLM provider\n",
    "# Uncomment ONE of the provider sections below:\n",
    "\n",
    "# === OPENAI (Default) ===\n",
    "os.environ[\"OPENAI_API_KEY\"] = getpass.getpass(\"OpenAI API Key:\")\n",
    "\n",
    "# === GOOGLE GEMINI ===\n",
    "# os.environ[\"GOOGLE_API_KEY\"] = getpass.getpass(\"Google API Key:\")\n",
    "\n",
    "# === ANTHROPIC CLAUDE ===\n",
    "# os.environ[\"ANTHROPIC_API_KEY\"] = getpass.getpass(\"Anthropic API Key:\")"
   ]
  },
  {
   "cell_type": "markdown",
   "metadata": {},
   "source": [
    "# 📄 Document Summarization\n",
    "\n",
    "**Hook:** *\"Turn lengthy documents into actionable insights instantly\"*\n",
    "\n",
    "Legal contracts, research papers, meeting transcripts - information overload is real. Traditional summarization tools give generic summaries. Watch AI-powered document processing extract structured insights, key decisions, and action items from complex documents.\n",
    "\n",
    "**What you'll see in this 2-minute demo:**\n",
    "- 📚 **Mixed document types** - Contracts, reports, meeting notes\n",
    "- 🧠 **Intelligent extraction** - Key points, decisions, action items\n",
    "- 📊 **Structured insights** - Not just summaries, but actionable data\n",
    "- ⚡ **Batch processing** - Multiple documents processed efficiently\n",
    "\n",
    "Perfect for legal review, research analysis, and executive briefings."
   ]
  },
  {
   "cell_type": "code",
   "execution_count": null,
   "metadata": {},
   "outputs": [],
   "source": [
    "import fenic as fc\n",
    "from pydantic import BaseModel, Field\n",
    "from typing import List, Literal\n",
    "\n",
    "# ⚡ Configure for document processing\n",
    "session = fc.Session.get_or_create(fc.SessionConfig(\n",
    "    app_name=\"document_summarization_demo\",\n",
    "    semantic=fc.SemanticConfig(\n",
    "        language_models={\n",
    "            \"summarizer\": fc.OpenAILanguageModel(model_name=\"gpt-4o-mini\", rpm=500, tpm=200_000),\n",
    "            # \"summarizer\": fc.GoogleDeveloperLanguageModel(model_name=\"gemini-2.5-flash-lite\", rpm=1000, tpm=1_000_000),\n",
    "            # \"summarizer\": fc.AnthropicLanguageModel(model_name=\"claude-3-5-sonnet-20241022\", rpm=500, tpm=200_000)\n",
    "        }\n",
    "    )\n",
    "))\n",
    "\n",
    "print(\"✅ Document summarization session configured\")"
   ]
  },
  {
   "cell_type": "markdown",
   "metadata": {},
   "source": [
    "## 📄 Step 1: Document Insight Schema\n",
    "\n",
    "Define the structured insights we want to extract from documents:"
   ]
  },
  {
   "cell_type": "code",
   "execution_count": null,
   "metadata": {},
   "outputs": [],
   "source": [
    "# 📊 Structured document insights schema\n",
    "class DocumentInsight(BaseModel):\n",
    "    document_type: Literal[\"contract\", \"meeting_notes\", \"research_paper\", \"proposal\", \"report\", \"legal_document\"] = Field(description=\"Type of document\")\n",
    "    key_decisions: List[str] = Field(description=\"Important decisions or conclusions made\")\n",
    "    action_items: List[str] = Field(description=\"Tasks or next steps mentioned\")\n",
    "    risk_factors: List[str] = Field(description=\"Potential risks or concerns identified\")\n",
    "    stakeholders: List[str] = Field(description=\"People or organizations mentioned\")\n",
    "    urgency_level: Literal[\"high\", \"medium\", \"low\", \"none\"] = Field(description=\"Priority level\")\n",
    "    executive_summary: str = Field(description=\"One-paragraph executive summary\")\n",
    "\n",
    "print(\"📊 Document Insight Schema:\")\n",
    "print(\"   • document_type: Automatic classification\")\n",
    "print(\"   • key_decisions: Important conclusions\")\n",
    "print(\"   • action_items: Next steps required\")\n",
    "print(\"   • risk_factors: Potential concerns\")\n",
    "print(\"   • stakeholders: Key people/organizations\")\n",
    "print(\"   • urgency_level: Priority assessment\")\n",
    "print(\"   • executive_summary: Concise overview\")"
   ]
  },
  {
   "cell_type": "markdown",
   "metadata": {},
   "source": [
    "## 📚 Step 2: Mixed Document Collection\n",
    "\n",
    "Various document types requiring different extraction approaches:"
   ]
  },
  {
   "cell_type": "code",
   "execution_count": null,
   "metadata": {},
   "outputs": [],
   "source": [
    "# 📚 Documents with different content and structures\n",
    "documents = session.create_dataframe([\n",
    "    {\n",
    "        \"doc_id\": \"DOC001\",\n",
    "        \"title\": \"Software License Agreement\",\n",
    "        \"content\": \"\"\"This Software License Agreement (\"Agreement\") is entered into between TechCorp Inc. (\"Licensor\") and DataFlow Solutions (\"Licensee\") effective January 15, 2024. The Licensee agrees to pay $50,000 annually for enterprise software access. Key terms: (1) Software must not be redistributed, (2) Support included for first year only, (3) Automatic renewal unless 90-day notice provided, (4) Liability limited to license fees paid. Licensee acknowledges data processing compliance under GDPR. Both parties agree to binding arbitration in Delaware. This agreement supersedes all previous negotiations.\"\"\"\n",
    "    },\n",
    "    {\n",
    "        \"doc_id\": \"DOC002\", \n",
    "        \"title\": \"Q4 Board Meeting Minutes\",\n",
    "        \"content\": \"\"\"Board Meeting - December 18, 2024. Present: CEO Sarah Kim, CFO Michael Chen, CTO Lisa Rodriguez, Board Members Johnson, Williams, Davis. Key decisions: (1) Approved $2M Series B funding round led by VenturePartners, (2) Authorized hiring of 15 engineers by March 2025, (3) Rejected acquisition offer from MegaCorp at $25M valuation. Action items: Sarah to finalize Series B paperwork by Jan 31, Michael to prepare Q1 budget incorporating new hires, Lisa to establish engineering hiring pipeline. Risk discussed: Competitive pressure from new entrants, potential talent shortage in AI space. Meeting adjourned 3:47 PM.\"\"\"\n",
    "    },\n",
    "    {\n",
    "        \"doc_id\": \"DOC003\",\n",
    "        \"title\": \"Market Research Report\", \n",
    "        \"content\": \"\"\"AI-Powered Analytics Market Analysis 2024. Executive Summary: Global market projected to reach $47.3B by 2027, growing at 23.1% CAGR. Key findings: (1) Healthcare and financial services are top adoption verticals, (2) Data privacy concerns remain primary barrier, (3) Mid-market companies (100-1000 employees) represent fastest-growing segment. Competitive landscape dominated by established players (Microsoft, Google) but significant opportunity exists in specialized niches. Recommendations: Focus on compliance-first solutions, target mid-market with simplified onboarding, consider strategic partnerships with consulting firms. Methodology based on 247 enterprise surveys, 18 expert interviews.\"\"\"\n",
    "    },\n",
    "    {\n",
    "        \"doc_id\": \"DOC004\",\n",
    "        \"title\": \"Project Proposal: Mobile App Redesign\",\n",
    "        \"content\": \"\"\"Proposal: Complete mobile application redesign to improve user engagement and reduce churn. Current app has 2.3/5 star rating, 67% user drop-off rate. Proposed solution: Modern UI/UX overhaul, performance optimization, new onboarding flow. Timeline: 4 months, Budget: $180,000 (includes design, development, testing). Team: 2 designers, 3 developers, 1 PM, 1 QA. Expected outcomes: Increase app rating to 4.2+, reduce churn to 35%, improve user session time by 40%. Risks: Resource allocation conflicts with Q2 feature releases, potential user confusion during transition. Approval needed by February 1 to meet summer launch window.\"\"\"\n",
    "    }\n",
    "])\n",
    "\n",
    "print(\"📚 Document Collection - Mixed types and complexity:\")\n",
    "documents.select(\"doc_id\", \"title\").show()"
   ]
  },
  {
   "cell_type": "markdown",
   "metadata": {},
   "source": [
    "## 🧠 Step 3: Intelligent Document Analysis\n",
    "\n",
    "Extract structured insights from each document using AI:"
   ]
  },
  {
   "cell_type": "code",
   "execution_count": null,
   "metadata": {},
   "outputs": [],
   "source": [
    "# 🧠 Extract structured insights from documents\n",
    "document_insights = documents.select(\n",
    "    \"doc_id\",\n",
    "    \"title\",\n",
    "    fc.semantic.extract(\n",
    "        \"content\",\n",
    "        DocumentInsight,\n",
    "        model_alias=\"summarizer\"\n",
    "    ).alias(\"insights\")\n",
    ").cache()\n",
    "\n",
    "# Extract key fields for analysis\n",
    "insight_summary = document_insights.select(\n",
    "    \"doc_id\",\n",
    "    \"title\",\n",
    "    document_insights.insights.document_type.alias(\"type\"),\n",
    "    document_insights.insights.urgency_level.alias(\"urgency\"),\n",
    "    document_insights.insights.executive_summary.alias(\"summary\")\n",
    ")\n",
    "\n",
    "print(\"🧠 INTELLIGENT DOCUMENT ANALYSIS:\")\n",
    "insight_summary.show()"
   ]
  },
  {
   "cell_type": "markdown",
   "metadata": {},
   "source": [
    "## ⚡ Step 4: Action Item Extraction\n",
    "\n",
    "Identify actionable tasks and decisions across all documents:"
   ]
  },
  {
   "cell_type": "code",
   "execution_count": null,
   "metadata": {},
   "outputs": [],
   "source": [
    "# ⚡ Extract and analyze action items\n",
    "action_analysis = document_insights.select(\n",
    "    \"doc_id\", \n",
    "    \"title\",\n",
    "    document_insights.insights.action_items.alias(\"actions\"),\n",
    "    document_insights.insights.key_decisions.alias(\"decisions\"),\n",
    "    document_insights.insights.risk_factors.alias(\"risks\")\n",
    ")\n",
    "\n",
    "print(\"⚡ ACTION ITEMS AND DECISIONS:\")\n",
    "action_analysis.show()\n",
    "\n",
    "# Analyze document insights distribution\n",
    "total_docs = documents.count()\n",
    "high_urgency = document_insights.filter(\n",
    "    document_insights.insights.urgency_level == \"high\"\n",
    ").count()\n",
    "\n",
    "print(\"\\n📊 DOCUMENT INTELLIGENCE SUMMARY:\")\n",
    "print(f\"   • Total documents processed: {total_docs}\")\n",
    "print(f\"   • High urgency documents: {high_urgency}\")\n",
    "print(\"   • Automated extraction: decisions, actions, risks, stakeholders\")\n",
    "\n",
    "print(\"\\n🎯 BUSINESS BENEFITS:\")\n",
    "print(\"   • Instant document triage by urgency and type\")\n",
    "print(\"   • Automated action item tracking across all documents\")\n",
    "print(\"   • Risk identification for proactive management\")\n",
    "print(\"   • Executive summaries for quick decision-making\")\n",
    "print(\"   • Stakeholder mapping for communication planning\")"
   ]
  },
  {
   "cell_type": "code",
   "execution_count": null,
   "metadata": {},
   "outputs": [],
   "source": [
    "session.stop()"
   ]
  }
 ],
 "metadata": {
  "kernelspec": {
   "display_name": "Python 3",
   "language": "python",
   "name": "python3"
  },
  "language_info": {
   "codemirror_mode": {
    "name": "ipython",
    "version": 3
   },
   "file_extension": ".py",
   "mimetype": "text/x-python",
   "name": "python",
   "nbconvert_exporter": "python",
   "pygments_lexer": "ipython3",
   "version": "3.8.5"
  }
 },
 "nbformat": 4,
 "nbformat_minor": 4
}
