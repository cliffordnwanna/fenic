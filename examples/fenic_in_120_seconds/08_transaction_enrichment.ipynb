{
 "cells": [
  {
   "cell_type": "markdown",
   "metadata": {},
   "source": [
    "To run this Fenic demo, click **Runtime** > **Run all**.\n",
    "\n",
    "<div class=\"align-center\">\n",
    "<a href=\"https://github.com/typedef-ai/fenic\"><img src=\"https://github.com/typedef-ai/fenic/blob/main/docs/images/typedef-fenic-logo-github-yellow.png\" height=\"50\"></a>\n",
    "<a href=\"https://discord.gg/GdqF3J7huR\"><img src=\"https://github.com/typedef-ai/fenic/blob/main/docs/images/join-the-discord.png\" height=\"50\"></a>\n",
    "<a href=\"https://docs.fenic.ai/latest/\"><img src=\"https://github.com/typedef-ai/fenic/blob/main/docs/images/documentation.png\" height=\"50\"></a>\n",
    "\n",
    "Questions? Join the Discord and ask away! For feature requests or to leave a star, visit our [GitHub](https://github.com/typedef-ai/fenic).\n",
    "\n",
    "</div>"
   ]
  },
  {
   "cell_type": "code",
   "execution_count": null,
   "metadata": {},
   "outputs": [],
   "source": [
    "!pip uninstall -y sklearn-compat ibis-framework imbalanced-learn google-genai\n",
    "!pip install polars==1.30.0\n",
    "# === GOOGLE GEMINI ===\n",
    "#!pip install fenic[google]\n",
    "# === ANTHROPIC CLAUDE ===\n",
    "#!pip install fenic[anthropic]\n",
    "# === OPENAI (Default) ===\n",
    "!pip install fenic"
   ]
  },
  {
   "cell_type": "code",
   "execution_count": null,
   "metadata": {},
   "outputs": [],
   "source": [
    "import os \n",
    "import getpass\n",
    "\n",
    "# 🔌 MULTI-PROVIDER SETUP - Choose your preferred LLM provider\n",
    "# Uncomment ONE of the provider sections below:\n",
    "\n",
    "# === OPENAI (Default) ===\n",
    "os.environ[\"OPENAI_API_KEY\"] = getpass.getpass(\"OpenAI API Key:\")\n",
    "\n",
    "# === GOOGLE GEMINI ===\n",
    "# os.environ[\"GOOGLE_API_KEY\"] = getpass.getpass(\"Google API Key:\")\n",
    "\n",
    "# === ANTHROPIC CLAUDE ===\n",
    "# os.environ[\"ANTHROPIC_API_KEY\"] = getpass.getpass(\"Anthropic API Key:\")"
   ]
  },
  {
   "cell_type": "markdown",
   "metadata": {},
   "source": [
    "# 💳 Transaction Enrichment\n",
    "\n",
    "**Hook:** *\"Turn cryptic merchant codes into actionable business intelligence\"*\n",
    "\n",
    "Raw transaction data is a mess - \"AMZ*DIGITAL*7\" or \"SQ*COFFEE SHOP\". Traditional categorization uses rigid rules and misses context. Watch AI enrich transactions with semantic understanding, turning payment data into business insights.\n",
    "\n",
    "**What you'll see in this 2-minute demo:**\n",
    "- 💳 **Cryptic transaction data** - Real-world payment descriptions and merchant codes\n",
    "- 🎯 **Smart categorization** - AI understands context beyond keyword matching\n",
    "- 📊 **Business categories** - Structured expense tracking and spending analysis\n",
    "- 💼 **Expense insights** - Actionable data for financial management\n",
    "\n",
    "This transforms financial chaos into structured business intelligence."
   ]
  },
  {
   "cell_type": "code",
   "execution_count": null,
   "metadata": {},
   "outputs": [],
   "source": [
    "import fenic as fc\n",
    "from pydantic import BaseModel, Field\n",
    "from typing import Literal\n",
    "\n",
    "# ⚡ Configure for financial data processing\n",
    "session = fc.Session.get_or_create(fc.SessionConfig(\n",
    "    app_name=\"transaction_enrichment_demo\",\n",
    "    semantic=fc.SemanticConfig(\n",
    "        language_models={\n",
    "            \"fintech\": fc.OpenAILanguageModel(model_name=\"gpt-4o-mini\", rpm=500, tpm=200_000),\n",
    "            # \"fintech\": fc.GoogleDeveloperLanguageModel(model_name=\"gemini-2.5-flash-lite\", rpm=1000, tpm=1_000_000),\n",
    "            # \"fintech\": fc.AnthropicLanguageModel(model_name=\"claude-3-5-sonnet-20241022\", rpm=500, tpm=200_000)\n",
    "        }\n",
    "    )\n",
    "))\n",
    "\n",
    "print(\"✅ Financial transaction enrichment configured\")"
   ]
  },
  {
   "cell_type": "markdown",
   "metadata": {},
   "source": [
    "## 💳 Step 1: Transaction Enrichment Schema\n",
    "\n",
    "Define the structured business data we want to extract from raw transactions:"
   ]
  },
  {
   "cell_type": "code",
   "execution_count": null,
   "metadata": {},
   "outputs": [],
   "source": [
    "# 💼 Transaction intelligence schema using Pydantic\n",
    "class TransactionEnrichment(BaseModel):\n",
    "    business_category: Literal[\"food\", \"software\", \"travel\", \"office\", \"marketing\", \"utilities\", \"other\"] = Field(description=\"Standardized business category\")\n",
    "    vendor_name: str = Field(description=\"Clean, readable business name\")\n",
    "    expense_type: Literal[\"recurring\", \"one-time\", \"subscription\"] = Field(description=\"Spending pattern classification\")\n",
    "    tax_deductible: bool = Field(description=\"Whether expense is likely tax deductible for business\")\n",
    "\n",
    "print(\"💼 Transaction Enrichment Schema:\")\n",
    "print(\"   • business_category: Standardized expense category\")\n",
    "print(\"   • vendor_name: Human-readable business name\")\n",
    "print(\"   • expense_type: Spending pattern classification\")\n",
    "print(\"   • tax_deductible: Business tax deduction eligibility\")"
   ]
  },
  {
   "cell_type": "markdown",
   "metadata": {},
   "source": [
    "## 💸 Step 2: Cryptic Transaction Data\n",
    "\n",
    "Real-world transaction descriptions that are hard to interpret:"
   ]
  },
  {
   "cell_type": "code",
   "execution_count": null,
   "metadata": {},
   "outputs": [],
   "source": [
    "# 💸 Real transaction data with cryptic descriptions\n",
    "transactions = session.create_dataframe([\n",
    "    {\"id\": \"TXN001\", \"description\": \"AMZ*DIGITAL*AWS*7G2H4\", \"amount\": -89.45, \"date\": \"2024-01-15\"},\n",
    "    {\"id\": \"TXN002\", \"description\": \"SQ*BLUE BOTTLE COFFEE\", \"amount\": -12.50, \"date\": \"2024-01-15\"},\n",
    "    {\"id\": \"TXN003\", \"description\": \"GITHUB.COM*ENTERPRISE\", \"amount\": -420.00, \"date\": \"2024-01-01\"},\n",
    "    {\"id\": \"TXN004\", \"description\": \"UBER*EATS*SF*HELP.UBER\", \"amount\": -35.80, \"date\": \"2024-01-14\"},\n",
    "    {\"id\": \"TXN005\", \"description\": \"ZOOM.US*ZOOM*US\", \"amount\": -14.99, \"date\": \"2024-01-01\"},\n",
    "    {\"id\": \"TXN006\", \"description\": \"OFFICE DEPOT #2847\", \"amount\": -67.34, \"date\": \"2024-01-12\"},\n",
    "    {\"id\": \"TXN007\", \"description\": \"GOOGLE*ADS*123ABC\", \"amount\": -250.00, \"date\": \"2024-01-10\"}\n",
    "])\n",
    "\n",
    "print(\"💸 Raw Transaction Data - Notice the cryptic descriptions:\")\n",
    "transactions.show()"
   ]
  },
  {
   "cell_type": "markdown",
   "metadata": {},
   "source": [
    "## 🧠 Step 3: AI Transaction Enrichment\n",
    "\n",
    "Use AI to decode transaction descriptions and extract business intelligence:"
   ]
  },
  {
   "cell_type": "code",
   "execution_count": null,
   "metadata": {},
   "outputs": [],
   "source": [
    "# 🧠 AI-powered transaction enrichment\n",
    "enriched_transactions = transactions.select(\n",
    "    \"id\",\n",
    "    \"description\",\n",
    "    \"amount\",\n",
    "    \"date\",\n",
    "    fc.semantic.extract(\n",
    "        \"description\",\n",
    "        TransactionEnrichment,\n",
    "        model_alias=\"fintech\"\n",
    "    ).alias(\"enrichment\")\n",
    ").cache()  # Cache enrichment results\n",
    "\n",
    "# Extract structured data for analysis\n",
    "transaction_insights = enriched_transactions.select(\n",
    "    \"id\",\n",
    "    \"description\",\n",
    "    \"amount\",\n",
    "    enriched_transactions.enrichment.vendor_name.alias(\"vendor\"),\n",
    "    enriched_transactions.enrichment.business_category.alias(\"category\"),\n",
    "    enriched_transactions.enrichment.tax_deductible.alias(\"deductible\"),\n",
    "    enriched_transactions.enrichment.expense_type.alias(\"type\")\n",
    ")\n",
    "\n",
    "print(\"🧠 ENRICHED TRANSACTION DATA:\")\n",
    "transaction_insights.show()"
   ]
  },
  {
   "cell_type": "markdown",
   "metadata": {},
   "source": [
    "## 📊 Step 4: Business Intelligence Dashboard\n",
    "\n",
    "Generate actionable insights for expense management and tax planning:"
   ]
  },
  {
   "cell_type": "code",
   "execution_count": null,
   "metadata": {},
   "outputs": [],
   "source": [
    "# 📊 Business intelligence analysis\n",
    "total_transactions = transactions.count()\n",
    "deductible_count = transaction_insights.filter(fc.col(\"deductible\")).count()\n",
    "deductible_percentage = (deductible_count / total_transactions) * 100\n",
    "\n",
    "print(\"📊 FINANCIAL INTELLIGENCE DASHBOARD:\")\n",
    "print(f\"   • Total transactions processed: {total_transactions}\")\n",
    "print(f\"   • Tax-deductible transactions: {deductible_count} ({deductible_percentage:.0f}%)\")\n",
    "\n",
    "# Category breakdown\n",
    "category_analysis = transaction_insights.group_by(\"category\").agg(\n",
    "    fc.count(\"*\").alias(\"transaction_count\")\n",
    ").order_by(fc.desc(\"transaction_count\"))\n",
    "\n",
    "print(\"\\n💼 SPENDING BY CATEGORY:\")\n",
    "category_analysis.show()\n",
    "\n",
    "print(\"\\n🎯 BUSINESS BENEFITS:\")\n",
    "print(\"   • Automated expense categorization saves hours of manual work\")\n",
    "print(\"   • Tax deductible identification maximizes business deductions\")\n",
    "print(\"   • Vendor normalization enables accurate spending analysis\")\n",
    "print(\"   • Subscription detection helps manage recurring costs\")"
   ]
  },
  {
   "cell_type": "code",
   "execution_count": null,
   "metadata": {},
   "outputs": [],
   "source": [
    "session.stop()"
   ]
  }
 ],
 "metadata": {
  "kernelspec": {
   "display_name": "Python 3",
   "language": "python",
   "name": "python3"
  },
  "language_info": {
   "codemirror_mode": {
    "name": "ipython",
    "version": 3
   },
   "file_extension": ".py",
   "mimetype": "text/x-python",
   "name": "python",
   "nbconvert_exporter": "python",
   "pygments_lexer": "ipython3",
   "version": "3.8.5"
  }
 },
 "nbformat": 4,
 "nbformat_minor": 4
}
