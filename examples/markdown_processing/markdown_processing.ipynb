{
 "cells": [
  {
   "cell_type": "markdown",
   "metadata": {},
   "source": [
    "To run this notebook just press _\"Run All\"_ <span style=\"opacity:.8;\">(in Google Colab: <b>Runtime ▸ Run all</b>)</span>\n",
    "\n",
    "<p align=\"center\">\n",
    "  <a href=\"https://docs.fenic.ai\">Read the Docs</a> •\n",
    "  <a href=\"https://discord.com/invite/GdqF3J7huR\">Join Discord</a> •\n",
    "  <a href=\"https://github.com/typedef-ai/fenic\">⭐️ Star fenic</a>\n",
    "</p>\n",
    "\n",
    "To install fenic locally, just follow the instructions on the [Github Repo](https://github.com/typedef-ai/fenic)\n",
    "\n",
    "You will learn how to use fenic to process, analyze, and extract structured information from an academic paper written in Markdown format. \n",
    "\n",
    "The workflow covers the entire pipeline—from loading the Markdown document, generating a table of contents, and extracting document sections, to parsing and structuring references using both markdown-specific and JSON-based techniques.\n",
    "\n",
    "**Key steps include**:\n",
    "- Loading and casting the Markdown document for analysis.\n",
    "- Generating a table of contents and extracting document sections.\n",
    "- Filtering and parsing the References section to extract individual citations.\n",
    "- Using both text and JSON-based approaches to structure and analyze reference data.\n",
    "\n",
    "This notebook provides a practical example of how fenic can be used to transform unstructured Markdown documents into structured, queryable data for further analysis.\n",
    "\n",
    "If this notebook helps, please give <a href=\"https://github.com/typedef-ai/fenic\" target=\"_blank\" rel=\"noopener noreferrer\">fenic</a> a ⭐️ — it really helps!"
   ]
  },
  {
   "cell_type": "markdown",
   "metadata": {},
   "source": [
    "## Installation"
   ]
  },
  {
   "cell_type": "code",
   "execution_count": null,
   "metadata": {},
   "outputs": [],
   "source": [
    "!mkdir data\n",
    "!wget -O data/attention_is_all_you_need.md https://raw.githubusercontent.com/typedef-ai/fenic/refs/heads/main/examples/markdown_processing/attention_is_all_you_need.md\n",
    "!pip uninstall -y sklearn-compat ibis-framework imbalanced-learn\n",
    "!pip install fenic matplotlib seaborn polars==1.30.0"
   ]
  },
  {
   "cell_type": "markdown",
   "metadata": {},
   "source": [
    "This cell configures and initializes a Fenic session."
   ]
  },
  {
   "cell_type": "code",
   "execution_count": null,
   "metadata": {},
   "outputs": [],
   "source": [
    "import fenic as fc\n",
    "\n",
    "config = fc.SessionConfig(\n",
    "    app_name=\"markdown_processing\",\n",
    ")\n",
    "\n",
    "# Initialize fenic session\n",
    "session = fc.Session.get_or_create(config)"
   ]
  },
  {
   "cell_type": "markdown",
   "metadata": {},
   "source": [
    "## Loading and Preparing the Markdown Document\n",
    "\n",
    "This cell loads the academic paper from a Markdown file, creates a fenic DataFrame containing the document, and casts the content to a Markdown-specific type to enable further analysis and extraction."
   ]
  },
  {
   "cell_type": "code",
   "execution_count": null,
   "metadata": {},
   "outputs": [],
   "source": [
    "# load the markdown file\n",
    "with open('data/attention_is_all_you_need.md', 'r', encoding='utf-8') as f:\n",
    "    markdown_raw_file = f.read()\n",
    "\n",
    "# Create DataFrame with the paper content as a single row\n",
    "df = session.create_dataframe({\n",
    "    \"paper_title\": [\"Attention Is All You Need\"],\n",
    "    \"content\": [markdown_raw_file]\n",
    "})\n",
    "\n",
    "# Cast content to MarkdownType to enable markdown-specific functions\n",
    "df = df.select(\n",
    "    fc.col(\"paper_title\"),\n",
    "    fc.col(\"content\").cast(fc.MarkdownType).alias(\"markdown\")\n",
    ")\n",
    "\n",
    "print(\"=== PAPER LOADED ===\")\n",
    "result = df.select(fc.col('paper_title')).to_polars()\n",
    "print(f\"Paper: {result['paper_title'][0]}\")\n",
    "print()"
   ]
  },
  {
   "cell_type": "markdown",
   "metadata": {},
   "source": [
    "## Generating a Table of Contents\n",
    "\n",
    "This cell uses fenic’s markdown functions to automatically generate a table of contents from the loaded academic paper, providing an overview of the document’s structure."
   ]
  },
  {
   "cell_type": "code",
   "execution_count": null,
   "metadata": {},
   "outputs": [],
   "source": [
    "# 1. Generate Table of Contents using markdown.generate_toc()\n",
    "toc_df = df.select(\n",
    "    fc.col(\"paper_title\"),\n",
    "    fc.markdown.generate_toc(fc.col(\"markdown\")).alias(\"toc\")\n",
    ")\n",
    "\n",
    "toc_df.show()\n"
   ]
  },
  {
   "cell_type": "markdown",
   "metadata": {},
   "source": [
    "## Extracting Document Sections\n",
    "\n",
    "This cell extracts all sections of the academic paper up to level 2 headers and converts them into a structured DataFrame. \n",
    "\n",
    "This enables further analysis and querying of individual document sections."
   ]
  },
  {
   "cell_type": "code",
   "execution_count": null,
   "metadata": {},
   "outputs": [],
   "source": [
    "# 2. Extract all document sections and convert to structured DataFrame\n",
    "sections_df = df.select(\n",
    "    fc.col(\"paper_title\"),\n",
    "    fc.markdown.generate_toc(fc.col(\"markdown\")).alias(\"toc\"),\n",
    "    # Extract sections up to level 2 headers, returning array of section objects\n",
    "    fc.markdown.extract_header_chunks(fc.col(\"markdown\"), header_level=2).alias(\"sections\")\n",
    ").explode(\"sections\").unnest(\"sections\")  # Convert array to rows and flatten struct\n",
    "\n",
    "sections_df.show()"
   ]
  },
  {
   "cell_type": "markdown",
   "metadata": {},
   "source": [
    "## Parsing the References Section\n",
    "\n",
    "This cell filters for the References section of the academic paper and splits its content to extract individual citations, enabling further analysis of the bibliography."
   ]
  },
  {
   "cell_type": "code",
   "execution_count": null,
   "metadata": {},
   "outputs": [],
   "source": [
    "# 3. Filter for specific section (References) and parse its content\n",
    "references_df = sections_df.filter(\n",
    "    fc.col(\"heading\").contains(\"References\")\n",
    ")\n",
    "\n",
    "# Split references content on [1], [2], etc. patterns to separate individual citations\n",
    "references_df.select(\n",
    "    fc.text.split(fc.col(\"content\"), r\"\\[\\d+\\]\").alias(\"references\")\n",
    ").explode(\"references\").show()\n",
    "print()"
   ]
  },
  {
   "cell_type": "markdown",
   "metadata": {},
   "source": [
    "## Extracting References Using JSON and JQ\n",
    "\n",
    "This cell converts the Markdown document to a JSON structure and uses JQ queries to extract individual references from the References section. \n",
    "\n",
    "This approach enables precise parsing and structuring of citation data for further analysis."
   ]
  },
  {
   "cell_type": "code",
   "execution_count": null,
   "metadata": {},
   "outputs": [],
   "source": [
    "# 4. Extract references using JSON + jq approach\n",
    "# Convert the original document to JSON structure\n",
    "document_json_df = df.select(\n",
    "    fc.col(\"paper_title\"),\n",
    "    fc.markdown.to_json(fc.col(\"markdown\")).alias(\"document_json\")\n",
    ")\n",
    "\n",
    "# Extract individual references using pure jq\n",
    "# References are nested under \"7 Conclusion\" -> \"References\" heading\n",
    "individual_refs_df = document_json_df.select(\n",
    "    fc.col(\"paper_title\"),\n",
    "    fc.json.jq(\n",
    "        fc.col(\"document_json\"),\n",
    "        # Navigate to References section and split text into individual citations\n",
    "        '.children[-1].children[] | select(.type == \"heading\" and (.content[0].text == \"References\")) | .children[0].content[0].text | split(\"\\\\n\") | .[]'\n",
    "    ).alias(\"reference_text\")\n",
    ").explode(\"reference_text\").select(\n",
    "    fc.col(\"paper_title\"),\n",
    "    fc.col(\"reference_text\").cast(fc.StringType).alias(\"reference_text\")\n",
    ").filter(\n",
    "    fc.col(\"reference_text\") != \"\"\n",
    ")\n",
    "\n",
    "individual_refs_df.show()"
   ]
  },
  {
   "cell_type": "markdown",
   "metadata": {},
   "source": [
    "## Extracting Reference Numbers and Content\n",
    "\n",
    "This cell uses a text extraction template to separate reference numbers from citation content in the References section, producing a structured DataFrame of individual citations for further analysis."
   ]
  },
  {
   "cell_type": "code",
   "execution_count": null,
   "metadata": {},
   "outputs": [],
   "source": [
    "# Extract reference number and content using text.extract() with template\n",
    "print(\"Extracting reference numbers and content using text.extract():\")\n",
    "parsed_refs_df = individual_refs_df.select(\n",
    "    fc.col(\"paper_title\"),\n",
    "    fc.text.extract(\n",
    "        fc.col(\"reference_text\"),\n",
    "        \"[${ref_number:none}] ${content:none}\"\n",
    "    ).alias(\"parsed_ref\")\n",
    ").select(\n",
    "    fc.col(\"paper_title\"),\n",
    "    fc.col(\"parsed_ref\").get_item(\"ref_number\").alias(\"reference_number\"),\n",
    "    fc.col(\"parsed_ref\").get_item(\"content\").alias(\"citation_content\")\n",
    ")\n",
    "\n",
    "print(\"References with separated numbers and content:\")\n",
    "parsed_refs_df.show()\n",
    "print()\n",
    "\n",
    "# Clean up session resources\n",
    "session.stop()"
   ]
  },
  {
   "cell_type": "markdown",
   "metadata": {},
   "source": [
    "## Next Steps\n",
    "\n",
    "A few other examples to explore:\n",
    "\n",
    "- Extract structured metadata from unstructured text [notebook](https://colab.research.google.com/github/typedef-ai/fenic/blob/main/examples/document_extraction/document_extraction.ipynb)\n",
    "- Named Entity Recognition [notebook](https://colab.research.google.com/github/typedef-ai/fenic/blob/main/examples/named_entity_recognition/ner.ipynb)\n",
    "- Classification of new articles for article bias detection [notebook](https://colab.research.google.com/github/typedef-ai/fenic/blob/main/examples/news_analysis/news_analysis.ipynb)\n",
    "\n",
    "---\n",
    "\n",
    "<p align=\"center\" style=\"margin:18px 0 6px; font-size:1.05em;\">\n",
    "  Enjoyed this? Help others find it.\n",
    "</p>\n",
    "\n",
    "<p align=\"center\" style=\"margin:0 0 12px;\">\n",
    "<a href=\"https://github.com/typedef-ai/fenic\">⭐️ Give fenic a Star ⭐️</a>\n",
    "</p>\n",
    "\n",
    "\n",
    "\n"
   ]
  }
 ],
 "metadata": {
  "kernelspec": {
   "display_name": ".venv",
   "language": "python",
   "name": "python3"
  },
  "language_info": {
   "codemirror_mode": {
    "name": "ipython",
    "version": 3
   },
   "file_extension": ".py",
   "mimetype": "text/x-python",
   "name": "python",
   "nbconvert_exporter": "python",
   "pygments_lexer": "ipython3",
   "version": "3.11.11"
  }
 },
 "nbformat": 4,
 "nbformat_minor": 2
}
